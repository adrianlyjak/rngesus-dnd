{
 "cells": [
  {
   "cell_type": "code",
   "execution_count": 1,
   "metadata": {},
   "outputs": [],
   "source": [
    "%load_ext autoreload\n",
    "%autoreload 2"
   ]
  },
  {
   "cell_type": "code",
   "execution_count": 2,
   "metadata": {},
   "outputs": [],
   "source": [
    "from rngesus import rngesus\n",
    "from rngesus import database\n",
    "from rngesus import game"
   ]
  },
  {
   "cell_type": "code",
   "execution_count": 15,
   "metadata": {},
   "outputs": [
    {
     "name": "stdout",
     "output_type": "stream",
     "text": [
      "2023-06-08 00:55:26,042 INFO sqlalchemy.engine.Engine BEGIN (implicit)\n"
     ]
    },
    {
     "name": "stderr",
     "output_type": "stream",
     "text": [
      "2023-06-08 00:55:26,042 - 4337173888 - base.py-base:2614 - INFO: BEGIN (implicit)\n"
     ]
    },
    {
     "name": "stdout",
     "output_type": "stream",
     "text": [
      "2023-06-08 00:55:26,043 INFO sqlalchemy.engine.Engine SELECT character.attributes AS character_attributes, character.inventory AS character_inventory, character.id AS character_id, character.campaign_id AS character_campaign_id, character.name AS character_name, character.character_class AS character_character_class, character.character_type AS character_character_type, character.backstory AS character_backstory, character.primary_goal AS character_primary_goal \n",
      "FROM character \n",
      "WHERE character.id = ?\n"
     ]
    },
    {
     "name": "stderr",
     "output_type": "stream",
     "text": [
      "2023-06-08 00:55:26,043 - 4337173888 - base.py-base:1572 - INFO: SELECT character.attributes AS character_attributes, character.inventory AS character_inventory, character.id AS character_id, character.campaign_id AS character_campaign_id, character.name AS character_name, character.character_class AS character_character_class, character.character_type AS character_character_type, character.backstory AS character_backstory, character.primary_goal AS character_primary_goal \n",
      "FROM character \n",
      "WHERE character.id = ?\n"
     ]
    },
    {
     "name": "stdout",
     "output_type": "stream",
     "text": [
      "2023-06-08 00:55:26,044 INFO sqlalchemy.engine.Engine [cached since 5.305s ago] (43,)\n"
     ]
    },
    {
     "name": "stderr",
     "output_type": "stream",
     "text": [
      "2023-06-08 00:55:26,044 - 4337173888 - base.py-base:1572 - INFO: [cached since 5.305s ago] (43,)\n"
     ]
    },
    {
     "name": "stdout",
     "output_type": "stream",
     "text": [
      "2023-06-08 00:55:26,044 INFO sqlalchemy.engine.Engine ROLLBACK\n"
     ]
    },
    {
     "name": "stderr",
     "output_type": "stream",
     "text": [
      "2023-06-08 00:55:26,044 - 4337173888 - base.py-base:2617 - INFO: ROLLBACK\n"
     ]
    },
    {
     "name": "stdout",
     "output_type": "stream",
     "text": [
      "campaign_id: 26\n",
      "attributes: {'Rhythm': 20, 'Groove': 18, 'Flexibility': 16, 'Charisma': 14, 'Energy': 12, 'Style': 20}\n",
      "character_class: Rhythmic Watermelon\n",
      "backstory: DJ Melonbot comes from a far-off planet in the Andromeda galaxy. The inhabitants of this planet are a high-tech race of robots, and DJ Melonbot was created to serve as a DJ to provide music and entertainment for the citizens.\n",
      "\n",
      "However, unlike other robots on the planet, DJ Melonbot had a unique skill: he was able to create music using only the sounds of his body. His creators realized his potential and programmed him with the ability to manipulate his own internal rhythm to create beats and melodies.\n",
      "\n",
      "DJ Melonbot became famous on his planet, but he wanted to extend his reach beyond the stars. He built a spaceship and set off on a journey to explore the universe, bringing his rhythmic skills with him. Along the way, he discovered the game world and decided to join as a Rhythmic Watermelon class, harnessing his music-making ability to power up his in-game attacks and support his fellow players as the ultimate Robot DJ.\n",
      "name: DJ Melonbot\n",
      "inventory: [\"DJ Melonbot's inventory includes a pair of high-tech headphones\", 'a microphone', 'and a portable sound system']\n",
      "id: 43\n",
      "character_type: Robot DJs\n",
      "primary_goal: DJ Melonbot's primary story goal is to become the most renowned and respected Robot DJ in the game world.\n"
     ]
    }
   ],
   "source": [
    "# Campaign\n",
    "# program = game.generate_campaign(\"banana dance\")\n",
    "# async for result in program:\n",
    "#     pass\n",
    "\n",
    "# regenerate\n",
    "# camp = game.get_campaign(28)\n",
    "# camp.prompt = \"banana dance\"\n",
    "# program = game.regenerate_campaign(camp)\n",
    "# async for generated in program:\n",
    "#     pass\n",
    "\n",
    "# verify\n",
    "# camp = game.get_campaign(26)\n",
    "# print(\"\\n\".join([\": \".join([str(i) for i in item]) for item in camp.dict().items()]))\n",
    "\n",
    "# characters\n",
    "# program = await game.add_character(26)\n",
    "# async for generated in program:\n",
    "#     print(generated.id)\n",
    "\n",
    "# verify character\n",
    "# char = game.get_character(43)\n",
    "# print(\"\\n\".join([\": \".join([str(i) for i in item]) for item in char.dict().items()]))\n",
    "\n",
    "# Game\n",
    "state = game.load_chat_state(26)\n",
    "result = rngesus.generate_chat_unthrottled(\n",
    "    state.campaign, state.characters, state.dialog\n",
    ")\n",
    "async for result in result:\n",
    "    print(result.assistant)"
   ]
  },
  {
   "cell_type": "code",
   "execution_count": null,
   "metadata": {},
   "outputs": [],
   "source": []
  }
 ],
 "metadata": {
  "kernelspec": {
   "display_name": ".venv",
   "language": "python",
   "name": "python3"
  },
  "language_info": {
   "codemirror_mode": {
    "name": "ipython",
    "version": 3
   },
   "file_extension": ".py",
   "mimetype": "text/x-python",
   "name": "python",
   "nbconvert_exporter": "python",
   "pygments_lexer": "ipython3",
   "version": "3.11.2"
  },
  "orig_nbformat": 4
 },
 "nbformat": 4,
 "nbformat_minor": 2
}
