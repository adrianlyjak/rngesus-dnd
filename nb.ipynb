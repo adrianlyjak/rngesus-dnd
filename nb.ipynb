{
 "cells": [
  {
   "cell_type": "code",
   "execution_count": 1,
   "metadata": {},
   "outputs": [],
   "source": [
    "%load_ext autoreload\n",
    "%autoreload 2"
   ]
  },
  {
   "cell_type": "code",
   "execution_count": 3,
   "metadata": {},
   "outputs": [],
   "source": [
    "from rngesus import rngesus\n",
    "from rngesus import database"
   ]
  },
  {
   "cell_type": "code",
   "execution_count": 59,
   "metadata": {},
   "outputs": [
    {
     "name": "stdout",
     "output_type": "stream",
     "text": [
      "id=None title='' description='\\n\\n\\n' summary='' character_classes=[''] character_types=[''] attributes=['']\n"
     ]
    },
    {
     "ename": "CancelledError",
     "evalue": "",
     "output_type": "error",
     "traceback": [
      "\u001b[0;31m---------------------------------------------------------------------------\u001b[0m",
      "\u001b[0;31mCancelledError\u001b[0m                            Traceback (most recent call last)",
      "Cell \u001b[0;32mIn[59], line 2\u001b[0m\n\u001b[1;32m      1\u001b[0m camp \u001b[39m=\u001b[39m \u001b[39mNone\u001b[39;00m\n\u001b[0;32m----> 2\u001b[0m \u001b[39masync\u001b[39;00m \u001b[39mfor\u001b[39;00m c \u001b[39min\u001b[39;00m rngesus\u001b[39m.\u001b[39mgenerate_campaign(\u001b[39m\"\u001b[39m\u001b[39mspace babies\u001b[39m\u001b[39m\"\u001b[39m):\n\u001b[1;32m      3\u001b[0m     camp \u001b[39m=\u001b[39m c\n\u001b[1;32m      4\u001b[0m     \u001b[39mprint\u001b[39m(camp)\n",
      "File \u001b[0;32m~/dev/rngesus/rngesus/rngesus.py:248\u001b[0m, in \u001b[0;36mgenerate_campaign\u001b[0;34m(prompt, update_frequency_seconds)\u001b[0m\n\u001b[1;32m    246\u001b[0m last \u001b[39m=\u001b[39m \u001b[39mNone\u001b[39;00m\n\u001b[1;32m    247\u001b[0m result \u001b[39m=\u001b[39m \u001b[39mNone\u001b[39;00m\n\u001b[0;32m--> 248\u001b[0m \u001b[39masync\u001b[39;00m \u001b[39mfor\u001b[39;00m generated \u001b[39min\u001b[39;00m generator:\n\u001b[1;32m    249\u001b[0m     result \u001b[39m=\u001b[39m result_to_campaign(generated)\n\u001b[1;32m    250\u001b[0m     now \u001b[39m=\u001b[39m time\u001b[39m.\u001b[39mtime()\n",
      "File \u001b[0;32m~/dev/rngesus/.venv/lib/python3.11/site-packages/guidance/_program.py:278\u001b[0m, in \u001b[0;36mProgram._stream_run_async\u001b[0;34m(self)\u001b[0m\n\u001b[1;32m    276\u001b[0m \u001b[39mwhile\u001b[39;00m \u001b[39mself\u001b[39m\u001b[39m.\u001b[39m_executor \u001b[39mis\u001b[39;00m \u001b[39mnot\u001b[39;00m \u001b[39mNone\u001b[39;00m:\n\u001b[1;32m    277\u001b[0m     \u001b[39mif\u001b[39;00m \u001b[39mself\u001b[39m\u001b[39m.\u001b[39m_executor\u001b[39m.\u001b[39mexecuting:\n\u001b[0;32m--> 278\u001b[0m         \u001b[39mawait\u001b[39;00m \u001b[39mself\u001b[39m\u001b[39m.\u001b[39m_emit_stream_event\u001b[39m.\u001b[39mwait()\n\u001b[1;32m    279\u001b[0m         \u001b[39mself\u001b[39m\u001b[39m.\u001b[39m_emit_stream_event\u001b[39m.\u001b[39mclear()\n\u001b[1;32m    280\u001b[0m     \u001b[39mtry\u001b[39;00m:\n",
      "File \u001b[0;32m/opt/homebrew/Cellar/python@3.11/3.11.2_1/Frameworks/Python.framework/Versions/3.11/lib/python3.11/asyncio/locks.py:213\u001b[0m, in \u001b[0;36mEvent.wait\u001b[0;34m(self)\u001b[0m\n\u001b[1;32m    211\u001b[0m \u001b[39mself\u001b[39m\u001b[39m.\u001b[39m_waiters\u001b[39m.\u001b[39mappend(fut)\n\u001b[1;32m    212\u001b[0m \u001b[39mtry\u001b[39;00m:\n\u001b[0;32m--> 213\u001b[0m     \u001b[39mawait\u001b[39;00m fut\n\u001b[1;32m    214\u001b[0m     \u001b[39mreturn\u001b[39;00m \u001b[39mTrue\u001b[39;00m\n\u001b[1;32m    215\u001b[0m \u001b[39mfinally\u001b[39;00m:\n",
      "File \u001b[0;32m/opt/homebrew/Cellar/python@3.11/3.11.2_1/Frameworks/Python.framework/Versions/3.11/lib/python3.11/asyncio/futures.py:287\u001b[0m, in \u001b[0;36mFuture.__await__\u001b[0;34m(self)\u001b[0m\n\u001b[1;32m    285\u001b[0m \u001b[39mif\u001b[39;00m \u001b[39mnot\u001b[39;00m \u001b[39mself\u001b[39m\u001b[39m.\u001b[39mdone():\n\u001b[1;32m    286\u001b[0m     \u001b[39mself\u001b[39m\u001b[39m.\u001b[39m_asyncio_future_blocking \u001b[39m=\u001b[39m \u001b[39mTrue\u001b[39;00m\n\u001b[0;32m--> 287\u001b[0m     \u001b[39myield\u001b[39;00m \u001b[39mself\u001b[39m  \u001b[39m# This tells Task to wait for completion.\u001b[39;00m\n\u001b[1;32m    288\u001b[0m \u001b[39mif\u001b[39;00m \u001b[39mnot\u001b[39;00m \u001b[39mself\u001b[39m\u001b[39m.\u001b[39mdone():\n\u001b[1;32m    289\u001b[0m     \u001b[39mraise\u001b[39;00m \u001b[39mRuntimeError\u001b[39;00m(\u001b[39m\"\u001b[39m\u001b[39mawait wasn\u001b[39m\u001b[39m'\u001b[39m\u001b[39mt used with future\u001b[39m\u001b[39m\"\u001b[39m)\n",
      "File \u001b[0;32m/opt/homebrew/Cellar/python@3.11/3.11.2_1/Frameworks/Python.framework/Versions/3.11/lib/python3.11/asyncio/tasks.py:339\u001b[0m, in \u001b[0;36mTask.__wakeup\u001b[0;34m(self, future)\u001b[0m\n\u001b[1;32m    337\u001b[0m \u001b[39mdef\u001b[39;00m \u001b[39m__wakeup\u001b[39m(\u001b[39mself\u001b[39m, future):\n\u001b[1;32m    338\u001b[0m     \u001b[39mtry\u001b[39;00m:\n\u001b[0;32m--> 339\u001b[0m         future\u001b[39m.\u001b[39;49mresult()\n\u001b[1;32m    340\u001b[0m     \u001b[39mexcept\u001b[39;00m \u001b[39mBaseException\u001b[39;00m \u001b[39mas\u001b[39;00m exc:\n\u001b[1;32m    341\u001b[0m         \u001b[39m# This may also be a cancellation.\u001b[39;00m\n\u001b[1;32m    342\u001b[0m         \u001b[39mself\u001b[39m\u001b[39m.\u001b[39m__step(exc)\n",
      "File \u001b[0;32m/opt/homebrew/Cellar/python@3.11/3.11.2_1/Frameworks/Python.framework/Versions/3.11/lib/python3.11/asyncio/futures.py:198\u001b[0m, in \u001b[0;36mFuture.result\u001b[0;34m(self)\u001b[0m\n\u001b[1;32m    196\u001b[0m \u001b[39mif\u001b[39;00m \u001b[39mself\u001b[39m\u001b[39m.\u001b[39m_state \u001b[39m==\u001b[39m _CANCELLED:\n\u001b[1;32m    197\u001b[0m     exc \u001b[39m=\u001b[39m \u001b[39mself\u001b[39m\u001b[39m.\u001b[39m_make_cancelled_error()\n\u001b[0;32m--> 198\u001b[0m     \u001b[39mraise\u001b[39;00m exc\n\u001b[1;32m    199\u001b[0m \u001b[39mif\u001b[39;00m \u001b[39mself\u001b[39m\u001b[39m.\u001b[39m_state \u001b[39m!=\u001b[39m _FINISHED:\n\u001b[1;32m    200\u001b[0m     \u001b[39mraise\u001b[39;00m exceptions\u001b[39m.\u001b[39mInvalidStateError(\u001b[39m'\u001b[39m\u001b[39mResult is not ready.\u001b[39m\u001b[39m'\u001b[39m)\n",
      "\u001b[0;31mCancelledError\u001b[0m: "
     ]
    }
   ],
   "source": [
    "camp = None\n",
    "async for c in rngesus.generate_campaign(\"space babies\"):\n",
    "    camp = c\n",
    "    print(camp)"
   ]
  },
  {
   "cell_type": "code",
   "execution_count": null,
   "metadata": {},
   "outputs": [],
   "source": [
    "camp = database.upsert_campaign(camp)"
   ]
  },
  {
   "cell_type": "code",
   "execution_count": null,
   "metadata": {},
   "outputs": [
    {
     "data": {
      "text/html": [
       "<div id=\"guidance-stop-button-a91680d4-f490-44ba-bdfd-af956281766d\" style=\"cursor: pointer; margin: 0px; display: none; float: right; padding: 3px; border-radius: 4px 4px 4px 4px; border: 0px solid rgba(127, 127, 127, 1); padding-left: 10px; padding-right: 10px; font-size: 13px; background-color: rgba(127, 127, 127, 0.25);\">Stop program</div><div id=\"guidance-content-a91680d4-f490-44ba-bdfd-af956281766d\"><pre style='margin: 0px; padding: 0px; padding-left: 8px; margin-left: -8px; border-radius: 0px; border-left: 1px solid rgba(127, 127, 127, 0.2); white-space: pre-wrap; font-family: ColfaxAI, Arial; font-size: 15px; line-height: 23px;'><div style='display: flex; border-bottom: 1px solid rgba(127, 127, 127, 0.2); align-items: center;'><div style='flex: 0 0 80px; opacity: 0.5;'>system</div><div style='flex-grow: 1; padding: 5px; padding-top: 10px; padding-bottom: 10px; margin-top: 0px; white-space: pre-wrap; margin-bottom: 0px;'>You are the dungeon master of an RPG game.\n",
       "\n",
       "This is the description of the game:\n",
       "&quot;&quot;&quot;\n",
       "<span style='background-color: rgba(0, 138.56128016, 250.76166089, 0.25); display: inline;' title='{{description}}'>Zombie Mall Mayhem is a survival-based RPG set in a post-apocalyptic world where a virus has turned most of the population into flesh-eating zombies. The game is about a survivor trapped in a shopping mall, who must scavenge for supplies, fortify their base, and fight off hordes of zombies, while trying to uncover the mystery behind the outbreak. The game mechanics include scavenging, base-building, and dynamic events, which provide unexpected challenges and opportunities for the players. As an author, I must remember to keep the gameplay exciting and unpredictable, while incorporating tough moral decisions that players must make to survive.</span>\n",
       "&quot;&quot;&quot;\n",
       "\n",
       "Where the rules are undefined, you must make them up. You invented this game!\n",
       "\n",
       "Now you are the dungeon master. Make the game challenging, exciting, and rewarding!\n",
       "\n",
       "Take advantage of the games unique mechanics, and tell a really good story.\n",
       "</div></div><div style='display: flex; border-bottom: 1px solid rgba(127, 127, 127, 0.2); align-items: center;'><div style='flex: 0 0 80px; opacity: 0.5;'>user</div><div style='flex-grow: 1; padding: 5px; padding-top: 10px; padding-bottom: 10px; margin-top: 0px; white-space: pre-wrap; margin-bottom: 0px;'>Generate me a new character. The character has the class of <span style='background-color: rgba(0, 138.56128016, 250.76166089, 0.25); display: inline;' title='{{character_class}}'>Engineer</span> and the role of <span style='background-color: rgba(0, 138.56128016, 250.76166089, 0.25); display: inline;' title='{{character_type}}'>Military Personnel</span>.\n",
       "</div></div><div style='display: flex; border-bottom: 1px solid rgba(127, 127, 127, 0.2); align-items: center;'><div style='flex: 0 0 80px; opacity: 0.5;'>user</div><div style='flex-grow: 1; padding: 5px; padding-top: 10px; padding-bottom: 10px; margin-top: 0px; white-space: pre-wrap; margin-bottom: 0px;'>First, what&#x27;s the character&#x27;s name? Respond concisely with just the name. For example: &quot;Max Ernst&quot;\n",
       "</div></div><div style='display: flex; border-bottom: 1px solid rgba(127, 127, 127, 0.2); align-items: center;'><div style='flex: 0 0 80px; opacity: 0.5;'>assistant</div><div style='flex-grow: 1; padding: 5px; padding-top: 10px; padding-bottom: 10px; margin-top: 0px; white-space: pre-wrap; margin-bottom: 0px;'><span style='background-color: rgba(0, 165, 0, 0.25); opacity: 1.0; display: inline;' title='{{gen &#x27;name&#x27; max_tokens=20 temperature=0.1}}'>Jasmine Lee</span>\n",
       "</div></div><div style='display: flex; border-bottom: 1px solid rgba(127, 127, 127, 0.2); align-items: center;'><div style='flex: 0 0 80px; opacity: 0.5;'>user</div><div style='flex-grow: 1; padding: 5px; padding-top: 10px; padding-bottom: 10px; margin-top: 0px; white-space: pre-wrap; margin-bottom: 0px;'>Now, give the user an exciting backstory. Make me want to play this character!\n",
       "</div></div><div style='display: flex; border-bottom: 1px solid rgba(127, 127, 127, 0.2); align-items: center;'><div style='flex: 0 0 80px; opacity: 0.5;'>assistant</div><div style='flex-grow: 1; padding: 5px; padding-top: 10px; padding-bottom: 10px; margin-top: 0px; white-space: pre-wrap; margin-bottom: 0px;'><span style='background-color: rgba(0, 165, 0, 0.25); opacity: 1.0; display: inline;' title='{{gen &#x27;backstory&#x27; max_tokens=200 temperature=0.9}}'>Jasmine Lee was born in a military family and grew up on different bases around the world. She was a curious child, always tinkering with gadgets and machines. When it was time for her to choose her career path, she enlisted in the army as an engineer. Jasmine quickly gained a reputation for her ability to repair and upgrade weapons and vehicles, earning her the nickname &quot;The Fixer.&quot;</span>\n",
       "</div></div><div style='display: flex; border-bottom: 1px solid rgba(127, 127, 127, 0.2); align-items: center;'><div style='flex: 0 0 80px; opacity: 0.5;'>user</div><div style='flex-grow: 1; padding: 5px; padding-top: 10px; padding-bottom: 10px; margin-top: 0px; white-space: pre-wrap; margin-bottom: 0px;'>Concisely in a single sentence, what&#x27;s the characters primary story goal? \n",
       "</div></div><div style='display: flex; border-bottom: 1px solid rgba(127, 127, 127, 0.2); align-items: center;'><div style='flex: 0 0 80px; opacity: 0.5;'>assistant</div><div style='flex-grow: 1; padding: 5px; padding-top: 10px; padding-bottom: 10px; margin-top: 0px; white-space: pre-wrap; margin-bottom: 0px;'><span style='background-color: rgba(0, 165, 0, 0.25); opacity: 1.0; display: inline;' title='{{gen &#x27;primary_goal&#x27; max_tokens=100 temperature=0.9}}'>Jasmine&#x27;s primary story goal is to escape the zombie-infested mall and find a way to signal the military for rescue.</span>\n",
       "</div></div><div style='display: flex; border-bottom: 1px solid rgba(127, 127, 127, 0.2); align-items: center;'><div style='flex: 0 0 80px; opacity: 0.5;'>user</div><div style='flex-grow: 1; padding: 5px; padding-top: 10px; padding-bottom: 10px; margin-top: 0px; white-space: pre-wrap; margin-bottom: 0px;'>Now, assign attribute scores between 1 and 20 (inclusive) for all attributes: <span style='background-color: rgba(0, 138.56128016, 250.76166089, 0.25); display: inline;' title='{{attributes}}'>Strength, Agility, Intelligence, Endurance, Perception.</span>\n",
       "\n",
       "Respond as a comma delimited list with colons indicating the attributes score. Use no other punctuation.\n",
       "\n",
       "This is the format: &quot;Attribute Name: Score, Another Attribute Name: Score&quot;\n",
       "\n",
       "For example:\n",
       "Influence: 18, Power: 12,\n",
       "\n",
       "</div></div><div style='display: flex; border-bottom: 1px solid rgba(127, 127, 127, 0.2); align-items: center;'><div style='flex: 0 0 80px; opacity: 0.5;'>assistant</div><div style='flex-grow: 1; padding: 5px; padding-top: 10px; padding-bottom: 10px; margin-top: 0px; white-space: pre-wrap; margin-bottom: 0px;'><span style='background-color: rgba(0, 165, 0, 0.25); opacity: 1.0; display: inline;' title='{{gen &#x27;attributes&#x27; max_tokens=50 temperature=0.1}}'>Strength: 14, Agility: 16, Intelligence: 18, Endurance: 15, Perception: 13</span>\n",
       "</div></div><div style='display: flex; border-bottom: 1px solid rgba(127, 127, 127, 0.2); align-items: center;'><div style='flex: 0 0 80px; opacity: 0.5;'>user</div><div style='flex-grow: 1; padding: 5px; padding-top: 10px; padding-bottom: 10px; margin-top: 0px; white-space: pre-wrap; margin-bottom: 0px;'>Now, list the inventory as a comma delimited list. Don&#x27;t give me too many things, I need to save room for later acquisitions!\n",
       "Focus on the essentials that my character in their role needs to play.\n",
       "Respond with just the items separated by commas. For example: &quot;Water Bottle, Sword, Potion&quot;\n",
       "</div></div><div style='display: flex; border-bottom: 1px solid rgba(127, 127, 127, 0.2); align-items: center;'><div style='flex: 0 0 80px; opacity: 0.5;'>assistant</div><div style='flex-grow: 1; padding: 5px; padding-top: 10px; padding-bottom: 10px; margin-top: 0px; white-space: pre-wrap; margin-bottom: 0px;'><span style='background-color: rgba(0, 165, 0, 0.25); opacity: 1.0; display: inline;' title='{{gen &#x27;inventory&#x27; max_tokens=100 temperature=0.1}}'>Assault Rifle, Pistol, Combat Knife, Ammo, First Aid Kit, Tool Kit, Walkie Talkie, Flashlight, Binoculars.</span>\n",
       "</div></div></pre></div>\n",
       "<script type=\"text/javascript\">(()=>{var t={296:(t,e,n)=>{var i=NaN,o=\"[object Symbol]\",r=/^\\s+|\\s+$/g,a=/^[-+]0x[0-9a-f]+$/i,s=/^0b[01]+$/i,c=/^0o[0-7]+$/i,d=parseInt,u=\"object\"==typeof n.g&&n.g&&n.g.Object===Object&&n.g,l=\"object\"==typeof self&&self&&self.Object===Object&&self,f=u||l||Function(\"return this\")(),h=Object.prototype.toString,p=Math.max,m=Math.min,g=function(){return f.Date.now()};function b(t){var e=typeof t;return!!t&&(\"object\"==e||\"function\"==e)}function y(t){if(\"number\"==typeof t)return t;if(function(t){return\"symbol\"==typeof t||function(t){return!!t&&\"object\"==typeof t}(t)&&h.call(t)==o}(t))return i;if(b(t)){var e=\"function\"==typeof t.valueOf?t.valueOf():t;t=b(e)?e+\"\":e}if(\"string\"!=typeof t)return 0===t?t:+t;t=t.replace(r,\"\");var n=s.test(t);return n||c.test(t)?d(t.slice(2),n?2:8):a.test(t)?i:+t}t.exports=function(t,e,n){var i,o,r,a,s,c,d=0,u=!1,l=!1,f=!0;if(\"function\"!=typeof t)throw new TypeError(\"Expected a function\");function h(e){var n=i,r=o;return i=o=void 0,d=e,a=t.apply(r,n)}function v(t){var n=t-c;return void 0===c||n>=e||n<0||l&&t-d>=r}function _(){var t=g();if(v(t))return w(t);s=setTimeout(_,function(t){var n=e-(t-c);return l?m(n,r-(t-d)):n}(t))}function w(t){return s=void 0,f&&i?h(t):(i=o=void 0,a)}function j(){var t=g(),n=v(t);if(i=arguments,o=this,c=t,n){if(void 0===s)return function(t){return d=t,s=setTimeout(_,e),u?h(t):a}(c);if(l)return s=setTimeout(_,e),h(c)}return void 0===s&&(s=setTimeout(_,e)),a}return e=y(e)||0,b(n)&&(u=!!n.leading,r=(l=\"maxWait\"in n)?p(y(n.maxWait)||0,e):r,f=\"trailing\"in n?!!n.trailing:f),j.cancel=function(){void 0!==s&&clearTimeout(s),d=0,i=c=o=s=void 0},j.flush=function(){return void 0===s?a:w(g())},j}},777:t=>{var e,n,i=Math.max,o=(e=function(t,e){return function(t,e,n){if(\"function\"!=typeof t)throw new TypeError(\"Expected a function\");return setTimeout((function(){t.apply(void 0,n)}),1)}(t,0,e)},n=i(void 0===n?e.length-1:n,0),function(){for(var t=arguments,o=-1,r=i(t.length-n,0),a=Array(r);++o<r;)a[o]=t[n+o];o=-1;for(var s=Array(n+1);++o<n;)s[o]=t[o];return s[n]=a,function(t,e,n){switch(n.length){case 0:return t.call(e);case 1:return t.call(e,n[0]);case 2:return t.call(e,n[0],n[1]);case 3:return t.call(e,n[0],n[1],n[2])}return t.apply(e,n)}(e,this,s)});t.exports=o}},e={};function n(i){var o=e[i];if(void 0!==o)return o.exports;var r=e[i]={exports:{}};return t[i](r,r.exports,n),r.exports}n.n=t=>{var e=t&&t.__esModule?()=>t.default:()=>t;return n.d(e,{a:e}),e},n.d=(t,e)=>{for(var i in e)n.o(e,i)&&!n.o(t,i)&&Object.defineProperty(t,i,{enumerable:!0,get:e[i]})},n.g=function(){if(\"object\"==typeof globalThis)return globalThis;try{return this||new Function(\"return this\")()}catch(t){if(\"object\"==typeof window)return window}}(),n.o=(t,e)=>Object.prototype.hasOwnProperty.call(t,e),(()=>{\"use strict\";const t=t=>{const e=new Set;do{for(const n of Reflect.ownKeys(t))e.add([t,n])}while((t=Reflect.getPrototypeOf(t))&&t!==Object.prototype);return e};function e(e,{include:n,exclude:i}={}){const o=t=>{const e=e=>\"string\"==typeof e?t===e:e.test(t);return n?n.some(e):!i||!i.some(e)};for(const[n,i]of t(e.constructor.prototype)){if(\"constructor\"===i||!o(i))continue;const t=Reflect.getOwnPropertyDescriptor(n,i);t&&\"function\"==typeof t.value&&(e[i]=e[i].bind(e))}return e}var i=n(777),o=n.n(i),r=n(296),a=n.n(r);class s{constructor(t,n){e(this),this.interfaceId=t,this.callbackMap={},this.data={},this.pendingData={},this.jcomm=new c(\"guidance_interface_target_\"+this.interfaceId,this.updateData,\"open\"),this.debouncedSendPendingData500=a()(this.sendPendingData,500),this.debouncedSendPendingData1000=a()(this.sendPendingData,1e3),n&&o()(n)}send(t,e){this.addPendingData(t,e),this.sendPendingData()}sendEvent(t){for(const e of Object.keys(t))this.addPendingData(e,t[e]);this.sendPendingData()}debouncedSendEvent500(t){for(const e of Object.keys(t))this.addPendingData(e,t[e]);this.debouncedSendPendingData500()}debouncedSend500(t,e){this.addPendingData(t,e),this.debouncedSendPendingData500()}debouncedSend1000(t,e){this.addPendingData(t,e),this.debouncedSendPendingData1000()}addPendingData(t,e){Array.isArray(t)||(t=[t]);for(const n in t)this.pendingData[t[n]]=e}updateData(t){t=JSON.parse(t.data);for(const e in t)this.data[e]=t[e];for(const e in t)e in this.callbackMap&&this.callbackMap[e](this.data[e])}subscribe(t,e){this.callbackMap[t]=e,o()((e=>this.callbackMap[t](this.data[t])))}sendPendingData(){this.jcomm.send_data(this.pendingData),this.pendingData={}}}class c{constructor(t,e,n=\"open\"){this._fire_callback=this._fire_callback.bind(this),this._register=this._register.bind(this),this.jcomm=void 0,this.callback=e,void 0!==window.Jupyter?\"register\"===n?Jupyter.notebook.kernel.comm_manager.register_target(t,this._register):(this.jcomm=Jupyter.notebook.kernel.comm_manager.new_comm(t),this.jcomm.on_msg(this._fire_callback)):void 0!==window._mgr&&(\"register\"===n?window._mgr.widgetManager.proxyKernel.registerCommTarget(t,this._register):(this.jcomm=window._mgr.widgetManager.proxyKernel.createComm(t),this.jcomm.open({},\"\"),this.jcomm.onMsg=this._fire_callback))}send_data(t){void 0!==this.jcomm?this.jcomm.send(t):console.error(\"Jupyter comm module not yet loaded! So we can't send the message.\")}_register(t,e){this.jcomm=t,this.jcomm.on_msg(this._fire_callback)}_fire_callback(t){this.callback(t.content.data)}}class d{constructor(t,n){e(this),this.id=t,this.comm=new s(t),this.comm.subscribe(\"append\",this.appendData),this.comm.subscribe(\"replace\",this.replaceData),this.comm.subscribe(\"event\",this.eventOccurred),this.element=document.getElementById(\"guidance-content-\"+t),this.stop_button=document.getElementById(\"guidance-stop-button-\"+t),this.stop_button.onclick=()=>this.comm.send(\"event\",\"stop\")}appendData(t){t&&(this.stop_button.style.display=\"inline-block\",this.element.innerHTML+=t)}replaceData(t){t&&(this.stop_button.style.display=\"inline-block\",this.element.innerHTML=t)}eventOccurred(t){\"complete\"===t&&(this.stop_button.style.display=\"none\")}}window._guidanceDisplay=function(t,e){return new d(t,e)}})()})();; window._guidanceDisplay(\"a91680d4-f490-44ba-bdfd-af956281766d\");</script>"
      ]
     },
     "metadata": {},
     "output_type": "display_data"
    }
   ],
   "source": [
    "char = rngesus.roll_character(camp)"
   ]
  },
  {
   "cell_type": "code",
   "execution_count": null,
   "metadata": {},
   "outputs": [
    {
     "data": {
      "text/plain": [
       "Character(name=\"The character's name is Max.\", inventory=[\"Max's inventory includes a compass\", 'a map', 'a pocket knife', 'a flashlight', 'a water bottle', 'and a notebook.'], id=1, character_type='City Kid', primary_goal='', attributes={'Strength': 14, 'Dexterity': 16, 'Constitution': 12, 'Intelligence': 10, 'Wisdom': 14, 'Charisma': 18}, campaign_id=4, character_class='Scout', backstory=\"Max grew up in the heart of a bustling city and never imagined leaving its confines. However, he always felt a pull towards the great outdoors, finding solace in the few parks and green spaces dotting the urban landscape. When Max's parents found out about Camp Quest, they saw it as an opportunity to broaden their son's horizons and help him connect with nature.\")"
      ]
     },
     "execution_count": 7,
     "metadata": {},
     "output_type": "execute_result"
    }
   ],
   "source": [
    "database.upsert_character(char)"
   ]
  },
  {
   "cell_type": "code",
   "execution_count": 6,
   "metadata": {},
   "outputs": [
    {
     "name": "stdout",
     "output_type": "stream",
     "text": [
      "2023-06-05 00:10:17,369 INFO sqlalchemy.engine.Engine BEGIN (implicit)\n"
     ]
    },
    {
     "name": "stderr",
     "output_type": "stream",
     "text": [
      "2023-06-05 00:10:17,369 - 4334978432 - base.py-base:2614 - INFO: BEGIN (implicit)\n"
     ]
    },
    {
     "name": "stdout",
     "output_type": "stream",
     "text": [
      "2023-06-05 00:10:17,370 INFO sqlalchemy.engine.Engine SELECT campaign.character_classes AS campaign_character_classes, campaign.character_types AS campaign_character_types, campaign.attributes AS campaign_attributes, campaign.id AS campaign_id, campaign.title AS campaign_title, campaign.description AS campaign_description, campaign.summary AS campaign_summary \n",
      "FROM campaign \n",
      "WHERE campaign.id = ?\n"
     ]
    },
    {
     "name": "stderr",
     "output_type": "stream",
     "text": [
      "2023-06-05 00:10:17,370 - 4334978432 - base.py-base:1572 - INFO: SELECT campaign.character_classes AS campaign_character_classes, campaign.character_types AS campaign_character_types, campaign.attributes AS campaign_attributes, campaign.id AS campaign_id, campaign.title AS campaign_title, campaign.description AS campaign_description, campaign.summary AS campaign_summary \n",
      "FROM campaign \n",
      "WHERE campaign.id = ?\n"
     ]
    },
    {
     "name": "stdout",
     "output_type": "stream",
     "text": [
      "2023-06-05 00:10:17,371 INFO sqlalchemy.engine.Engine [cached since 955.1s ago] (12,)\n"
     ]
    },
    {
     "name": "stderr",
     "output_type": "stream",
     "text": [
      "2023-06-05 00:10:17,371 - 4334978432 - base.py-base:1572 - INFO: [cached since 955.1s ago] (12,)\n"
     ]
    },
    {
     "name": "stdout",
     "output_type": "stream",
     "text": [
      "2023-06-05 00:10:17,373 INFO sqlalchemy.engine.Engine ROLLBACK\n"
     ]
    },
    {
     "name": "stderr",
     "output_type": "stream",
     "text": [
      "2023-06-05 00:10:17,373 - 4334978432 - base.py-base:2617 - INFO: ROLLBACK\n"
     ]
    },
    {
     "name": "stdout",
     "output_type": "stream",
     "text": [
      "12 - Thor's Hammer: A Norse Dramedy Adventure\n",
      "2023-06-05 00:10:17,374 INFO sqlalchemy.engine.Engine BEGIN (implicit)\n"
     ]
    },
    {
     "name": "stderr",
     "output_type": "stream",
     "text": [
      "2023-06-05 00:10:17,374 - 4334978432 - base.py-base:2614 - INFO: BEGIN (implicit)\n"
     ]
    },
    {
     "name": "stdout",
     "output_type": "stream",
     "text": [
      "2023-06-05 00:10:17,374 INFO sqlalchemy.engine.Engine SELECT character.attributes AS character_attributes, character.inventory AS character_inventory, character.id AS character_id, character.campaign_id AS character_campaign_id, character.name AS character_name, character.character_class AS character_character_class, character.character_type AS character_character_type, character.backstory AS character_backstory, character.primary_goal AS character_primary_goal \n",
      "FROM character \n",
      "WHERE character.campaign_id = ?\n"
     ]
    },
    {
     "name": "stderr",
     "output_type": "stream",
     "text": [
      "2023-06-05 00:10:17,374 - 4334978432 - base.py-base:1572 - INFO: SELECT character.attributes AS character_attributes, character.inventory AS character_inventory, character.id AS character_id, character.campaign_id AS character_campaign_id, character.name AS character_name, character.character_class AS character_character_class, character.character_type AS character_character_type, character.backstory AS character_backstory, character.primary_goal AS character_primary_goal \n",
      "FROM character \n",
      "WHERE character.campaign_id = ?\n"
     ]
    },
    {
     "name": "stdout",
     "output_type": "stream",
     "text": [
      "2023-06-05 00:10:17,375 INFO sqlalchemy.engine.Engine [cached since 955.1s ago] (12,)\n"
     ]
    },
    {
     "name": "stderr",
     "output_type": "stream",
     "text": [
      "2023-06-05 00:10:17,375 - 4334978432 - base.py-base:1572 - INFO: [cached since 955.1s ago] (12,)\n"
     ]
    },
    {
     "name": "stdout",
     "output_type": "stream",
     "text": [
      "2023-06-05 00:10:17,375 INFO sqlalchemy.engine.Engine ROLLBACK\n"
     ]
    },
    {
     "name": "stderr",
     "output_type": "stream",
     "text": [
      "2023-06-05 00:10:17,375 - 4334978432 - base.py-base:2617 - INFO: ROLLBACK\n"
     ]
    },
    {
     "name": "stdout",
     "output_type": "stream",
     "text": [
      "\n"
     ]
    },
    {
     "ename": "ValueError",
     "evalue": "The guidance program is missing the opening pound (#) sign or closing slash (/) for the block level command `if` at:\n...\n{{/system~}}\n{{~#assistant~}}\n{{if scenario}}{{scenario}}{{/if}}\n...",
     "output_type": "error",
     "traceback": [
      "\u001b[0;31m---------------------------------------------------------------------------\u001b[0m",
      "\u001b[0;31mValueError\u001b[0m                                Traceback (most recent call last)",
      "Cell \u001b[0;32mIn[6], line 18\u001b[0m\n\u001b[1;32m     14\u001b[0m \u001b[39mimport\u001b[39;00m \u001b[39mguidance\u001b[39;00m\n\u001b[1;32m     16\u001b[0m guidance\u001b[39m.\u001b[39mllms\u001b[39m.\u001b[39mOpenAI\u001b[39m.\u001b[39mcache\u001b[39m.\u001b[39mclear()\n\u001b[0;32m---> 18\u001b[0m rngesus\u001b[39m.\u001b[39;49mgenerate_chat(camp, chars)\n",
      "File \u001b[0;32m~/dev/rngesus/rngesus/rngesus.py:343\u001b[0m, in \u001b[0;36mgenerate_chat\u001b[0;34m(campaign, characters)\u001b[0m\n\u001b[1;32m    342\u001b[0m \u001b[39mdef\u001b[39;00m \u001b[39mgenerate_chat\u001b[39m(campaign: Campaign, characters: List[Character]) \u001b[39m-\u001b[39m\u001b[39m>\u001b[39m \u001b[39mNone\u001b[39;00m:\n\u001b[0;32m--> 343\u001b[0m     gen_chat(\n\u001b[1;32m    344\u001b[0m         async_mode\u001b[39m=\u001b[39;49m\u001b[39mTrue\u001b[39;49;00m,\n\u001b[1;32m    345\u001b[0m         description\u001b[39m=\u001b[39;49mcampaign\u001b[39m.\u001b[39;49mdescription,\n\u001b[1;32m    346\u001b[0m         summary\u001b[39m=\u001b[39;49mcampaign\u001b[39m.\u001b[39;49msummary,\n\u001b[1;32m    347\u001b[0m         title\u001b[39m=\u001b[39;49mcampaign\u001b[39m.\u001b[39;49mtitle,\n\u001b[1;32m    348\u001b[0m         characters\u001b[39m=\u001b[39;49m[c\u001b[39m.\u001b[39;49mdict() \u001b[39mfor\u001b[39;49;00m c \u001b[39min\u001b[39;49;00m characters],\n\u001b[1;32m    349\u001b[0m         scenario\u001b[39m=\u001b[39;49m\u001b[39m'''\u001b[39;49m\u001b[39mCampaign Plan:\u001b[39;49m\n\u001b[1;32m    350\u001b[0m \n\u001b[1;32m    351\u001b[0m \u001b[39mAct 1:\u001b[39;49m\n\u001b[1;32m    352\u001b[0m \u001b[39m- The players are hired by Thor to retrieve Mjolnir from Loki\u001b[39;49m\n\u001b[1;32m    353\u001b[0m \u001b[39m- They must first prove their worthiness by completing trials set by the gods\u001b[39;49m\n\u001b[1;32m    354\u001b[0m \u001b[39m- Trials include battling fierce beasts, solving puzzles, and navigating tricky social situations between different factions\u001b[39;49m\n\u001b[1;32m    355\u001b[0m \u001b[39m- Along the way, they encounter Eira, who joins their quest\u001b[39;49m\n\u001b[1;32m    356\u001b[0m \u001b[39m- The players learn that Loki has allied with a powerful giant clan led by the fearsome Jotnar\u001b[39;49m\u001b[39m'''\u001b[39;49m\n\u001b[1;32m    357\u001b[0m     )\n",
      "File \u001b[0;32m~/dev/rngesus/.venv/lib/python3.11/site-packages/guidance/_program.py:210\u001b[0m, in \u001b[0;36mProgram.__call__\u001b[0;34m(self, **kwargs)\u001b[0m\n\u001b[1;32m    201\u001b[0m new_program \u001b[39m=\u001b[39m Program(\n\u001b[1;32m    202\u001b[0m     text\u001b[39m=\u001b[39m\u001b[39mself\u001b[39m\u001b[39m.\u001b[39mmarked_text,\n\u001b[1;32m    203\u001b[0m \n\u001b[0;32m   (...)\u001b[0m\n\u001b[1;32m    206\u001b[0m     \u001b[39m*\u001b[39m\u001b[39m*\u001b[39m{\u001b[39m*\u001b[39m\u001b[39m*\u001b[39m{k: v \u001b[39mif\u001b[39;00m \u001b[39mcallable\u001b[39m(v) \u001b[39melse\u001b[39;00m copy\u001b[39m.\u001b[39mdeepcopy(v) \u001b[39mfor\u001b[39;00m k,v \u001b[39min\u001b[39;00m \u001b[39mself\u001b[39m\u001b[39m.\u001b[39m_variables\u001b[39m.\u001b[39mitems()}, \u001b[39m*\u001b[39m\u001b[39m*\u001b[39mkwargs}\n\u001b[1;32m    207\u001b[0m )\n\u001b[1;32m    209\u001b[0m \u001b[39m# create an executor for the new program (this also marks the program as executing)\u001b[39;00m\n\u001b[0;32m--> 210\u001b[0m new_program\u001b[39m.\u001b[39m_executor \u001b[39m=\u001b[39m ProgramExecutor(new_program)\n\u001b[1;32m    212\u001b[0m \u001b[39m# if we are in async mode, schedule the program in the current event loop\u001b[39;00m\n\u001b[1;32m    213\u001b[0m \u001b[39mif\u001b[39;00m new_program\u001b[39m.\u001b[39masync_mode:\n",
      "File \u001b[0;32m~/dev/rngesus/.venv/lib/python3.11/site-packages/guidance/_program_executor.py:57\u001b[0m, in \u001b[0;36mProgramExecutor.__init__\u001b[0;34m(self, program)\u001b[0m\n\u001b[1;32m     55\u001b[0m     \u001b[39mself\u001b[39m\u001b[39m.\u001b[39mparse_tree \u001b[39m=\u001b[39m grammar\u001b[39m.\u001b[39mparse(text)\n\u001b[1;32m     56\u001b[0m \u001b[39mexcept\u001b[39;00m parsimonious\u001b[39m.\u001b[39mexceptions\u001b[39m.\u001b[39mParseError \u001b[39mas\u001b[39;00m e:\n\u001b[0;32m---> 57\u001b[0m     \u001b[39mself\u001b[39;49m\u001b[39m.\u001b[39;49m_check_for_simple_error(text)\n\u001b[1;32m     58\u001b[0m     \u001b[39mraise\u001b[39;00m e\n",
      "File \u001b[0;32m~/dev/rngesus/.venv/lib/python3.11/site-packages/guidance/_program_executor.py:81\u001b[0m, in \u001b[0;36mProgramExecutor._check_for_simple_error\u001b[0;34m(self, text)\u001b[0m\n\u001b[1;32m     79\u001b[0m     \u001b[39mif\u001b[39;00m end \u001b[39m<\u001b[39m \u001b[39mlen\u001b[39m(text):\n\u001b[1;32m     80\u001b[0m         context \u001b[39m=\u001b[39m context\u001b[39m+\u001b[39m\u001b[39m\"\u001b[39m\u001b[39m...\u001b[39m\u001b[39m\"\u001b[39m\n\u001b[0;32m---> 81\u001b[0m     \u001b[39mraise\u001b[39;00m \u001b[39mValueError\u001b[39;00m(\u001b[39m\"\u001b[39m\u001b[39mThe guidance program is missing the opening pound (#) sign or closing slash (/) for the block level command `\u001b[39m\u001b[39m\"\u001b[39m\u001b[39m+\u001b[39mk\u001b[39m+\u001b[39m\u001b[39m\"\u001b[39m\u001b[39m` at:\u001b[39m\u001b[39m\\n\u001b[39;00m\u001b[39m\"\u001b[39m\u001b[39m+\u001b[39mcontext) \u001b[39mfrom\u001b[39;00m \u001b[39mNone\u001b[39;00m\n\u001b[1;32m     83\u001b[0m \u001b[39m# look for block commands that are missing the closing tag\u001b[39;00m\n\u001b[1;32m     84\u001b[0m num_opens \u001b[39m=\u001b[39m \u001b[39mlen\u001b[39m(re\u001b[39m.\u001b[39mfindall(\u001b[39mr\u001b[39m\u001b[39m\"\u001b[39m\u001b[39m(^|[^\u001b[39m\u001b[39m\\\\\u001b[39;00m\u001b[39m])\u001b[39m\u001b[39m{{\u001b[39m\u001b[39m~?#\u001b[39m\u001b[39m\\\u001b[39m\u001b[39ms*\u001b[39m\u001b[39m\"\u001b[39m\u001b[39m+\u001b[39mk\u001b[39m+\u001b[39m\u001b[39m\"\u001b[39m\u001b[39m(\u001b[39m\u001b[39m\\\u001b[39m\u001b[39ms|}|~)\u001b[39m\u001b[39m\"\u001b[39m, text))\n",
      "\u001b[0;31mValueError\u001b[0m: The guidance program is missing the opening pound (#) sign or closing slash (/) for the block level command `if` at:\n...\n{{/system~}}\n{{~#assistant~}}\n{{if scenario}}{{scenario}}{{/if}}\n..."
     ]
    }
   ],
   "source": [
    "camp = database.get_campaign(12)\n",
    "# print(camp.description)\n",
    "print(f\"{camp.id} - {camp.title}\")\n",
    "# print(camp.description)\n",
    "chars = database.get_characters_in_campaign(camp.id)\n",
    "\n",
    "char = chars[0]\n",
    "char.name\n",
    "print(\", \".join([f\"{k}: {v}\" for k, v in char.attributes.items()]))\n",
    "char.character_class\n",
    "char.character_type\n",
    "char.backstory\n",
    "char.primary_goal\n",
    "import guidance\n",
    "\n",
    "guidance.llms.OpenAI.cache.clear()\n",
    "\n",
    "rngesus.generate_chat(camp, chars)"
   ]
  },
  {
   "cell_type": "code",
   "execution_count": null,
   "metadata": {},
   "outputs": [],
   "source": []
  }
 ],
 "metadata": {
  "kernelspec": {
   "display_name": ".venv",
   "language": "python",
   "name": "python3"
  },
  "language_info": {
   "codemirror_mode": {
    "name": "ipython",
    "version": 3
   },
   "file_extension": ".py",
   "mimetype": "text/x-python",
   "name": "python",
   "nbconvert_exporter": "python",
   "pygments_lexer": "ipython3",
   "version": "3.11.2"
  },
  "orig_nbformat": 4
 },
 "nbformat": 4,
 "nbformat_minor": 2
}
