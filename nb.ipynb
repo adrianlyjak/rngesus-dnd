{
 "cells": [
  {
   "cell_type": "code",
   "execution_count": 1,
   "metadata": {},
   "outputs": [],
   "source": [
    "%load_ext autoreload\n",
    "%autoreload 2"
   ]
  },
  {
   "cell_type": "code",
   "execution_count": 2,
   "metadata": {},
   "outputs": [],
   "source": [
    "from rngesus import rngesus\n",
    "from rngesus import database"
   ]
  },
  {
   "cell_type": "code",
   "execution_count": 8,
   "metadata": {},
   "outputs": [
    {
     "name": "stdout",
     "output_type": "stream",
     "text": [
      "id=None title='' description='\\n\\n\\n' summary='' character_classes=[''] character_types=[''] attributes=['']\n",
      "id=None title='AstroNursery: Raising Space Babies' description='In AstroNursery: Raising Space Babies, players take on the role of intergalactic caretakers responsible for raising a new generation of budding space explorers. As they navigate the challenges of raising and training their charges, they\\'ll encounter unexpected dangers and mysteries lurking in the depths of space. With a focus on intricate space-themed RPG mechanics, compelling narrative, and adorable baby-alien designs, AstroNursery is an adventure that\\'s out of this world!\\nThe game world takes place in a distant future, where humanity has discovered several sentient species living in the far reaches of space. As humans started establishing colonies, a new challenge arose; how to raise the next generation of space explorers that could thrive in different environments and interact with various alien species.\\n\\nAstroNursery: Raising Space Babies begins with the player\\'s spaceship arriving at a distant planet, where they will begin their mission to care for alien babies sent here from different parts of the galaxy. The game\\'s story revolves around raising the babies, seeing them grow and become unique individuals, and ultimately training them to become the galaxy\\'s next generation of explorers. However, the task is easier said than done because the infants are prone to illness, mood swings, and unexpected behavior, which can make raising them a challenge.\\n\\nAs the game progresses, the player will uncover ancient alien mysteries, encounter hostile creatures, and navigate different alien societies while trying to keep their young charges safe and healthy. The player will have to make strategic decisions to keep the babies\\' environment stable, such as allocating resources to different aspects of the ship like defenses, education, and food.\\n\\nThe story will have several twists and turns, with different alien races exhibiting a wide range of personalities – some are friendly and cooperative, while others are aggressive and suspicious. The story intrigue includes finding out the reason why the babies were sent to that planet, discovering the truth about the alien races, and ultimately saving the galaxy from a new threat.\\n\\nThe game starts with a cut-scene where the player\\'s spaceship arrives at the planet, and a group of alien caretakers hands over the baby aliens into the player\\'s care. One of the alien caretakers whispers a cryptic message before departing, \"The fate of the galaxy rests with these babies.\" This message sets the tone for the entire game and creates an air of mystery about the player\\'s mission.\\nThe game\\'s mechanics are focused on nurturing the babies, training them, and sending them off on missions across the galaxy. Here are some ways that AstroNursery differentiates itself from other RPGs:\\n\\n1. Baby-Care Mechanics: Players must keep track of the babies\\' health, happiness, and education. The babies will have different requirements that players need to fulfill, such as feeding them, changing their diapers, playing with them, and teaching them new skills. The babies\\' behavior will depend on how well the player takes care of them, and their personality will develop over time.\\n\\n2. Multiple Endings: The player\\'s choices will impact the outcome of the game. Depending on how the player raises the babies, they will end up with a different set of skills, personality traits, and goals. The babies will all have unique storylines, and the game will have multiple endings based on which babies the player chooses to send on missions.\\n\\n3. Galaxy Exploration: Players can explore different planets, meet alien races, and unravel new storylines. The game will have a procedurally generated universe, and players can explore new worlds and discover unique alien creatures. Each planet will have different resources that the player can collect and use to nurture the babies.\\n\\n4. Tactical Gameplay: During missions, players can control their team of babies and strategically plan their attack. Each baby will have unique skills, such as hacking, combat, engineering, or diplomacy, that they can use to complete missions. Players can choose which babies to send on which missions based on their abilities.\\n\\n5. Technology Tree: Players can research and unlock new technologies that they can use to improve the ship\\'s functionality, unlock new abilities for the babies, or discover new alien races.\\n\\n6. Morale Mechanics: The babies\\' morale will affect their performance during missions. If the player takes care of them well, their morale will increase, and they will perform better. However, if the player neglects them or doesn\\'t fulfill their needs, their morale will decrease, leading to behavioral issues.\\n\\n7. Alien Language Learning: As the player interacts with different alien races, they will need to learn their language to communicate with them. The player will need to gather clues and piece together the language\\'s grammar and vocabulary to understand them fully.\\n\\nAstroNursery: Raising Space Babies offers a unique blend of RPG mechanics, simulation game elements, and strategic gameplay that makes it a must-play for anyone who loves space exploration and nurturing adorable alien\\nbabies. The game\\'s focus on caring for the babies and training them to become explorers adds a new dimension to RPGs, creating a sense of responsibility and attachment to the characters. The multiple endings and procedurally generated universe also add to the replay value, making every playthrough unique. \\n\\nAstroNursery\\'s mechanics also emphasize the importance of choices, whether it\\'s taking care of the babies\\' needs or choosing which babies to send on missions. The galaxy exploration and language learning mechanics also make the game feel more immersive, as players are tasked with navigating different planets and learning the cultures of the alien races. \\n\\nOverall, AstroNursery: Raising Space Babies offers a unique and engaging gameplay experience that sets it apart from traditional RPGs.\\nAlso, the game\\'s mechanics regarding the morale of the babies add an emotional layer to the gameplay. Players will have to manage the babies\\' morale, which will affect their behavior, performance, and attitude towards the player. This mechanic creates a sense of responsibility, as players must ensure that the babies are happy and healthy while also training them to become competent explorers. \\n\\nAnother unique feature of AstroNursery is the technology tree, which allows players to unlock new abilities, technologies, and alien races as they progress through the game. This feature provides a sense of progression, as players will have to strategically plan which technologies to unlock, depending on their playstyle and the babies they\\'re training. \\n\\nFinally, the game\\'s tactical gameplay adds a layer of strategy to the gameplay, which complements the RPG mechanics. Players will have to manage their team of babies, utilize their unique skills, and plan their attacks to complete missions successfully. This feature adds depth to the gameplay and ensures that players will need to think strategically to progress in the game. \\n\\nIn conclusion, AstroNursery: Raising Space Babies offers a unique gameplay experience that combines RPG mechanics, simulation gameplay, and strategic elements, creating an immersive and engaging game world. The mechanics, such as baby-care mechanics, morale mechanics, tactical gameplay, and the technology tree, add depth and variety to the gameplay, making it a must-play for RPG fans and space enthusiasts alike.\\nAdditionally, the game also employs a decision-making system where the player\\'s choices have direct ramifications on the narrative. The player will have to make tough decisions about which babies to prioritize, how to allocate resources, and how to respond to different situations. These decisions will affect the babies\\' growth, their personality, and ultimately, the outcome of the game. This system adds a layer of complexity to the game world, making every playthrough feel different, and providing replay value. \\n\\nMoreover, the game\\'s mechanics also include a social system where the player can interact with the alien races and build relationships with them. This system adds a diplomatic and role-playing element to the game, as players must navigate the different social cues and customs of each alien race. In some cases, the player may have to use the babies\\' abilities to resolve conflicts and establish alliances with other alien races. \\n\\nLastly, the game\\'s story intrigue involves uncovering the mysteries behind the babies\\' origins and their connection to the fate of the galaxy. As the player progresses through the game, they will uncover clues and piece together the puzzle of the babies\\' existence, leading to a thrilling conclusion that ties together the game\\'s multiple storylines. \\n\\nIn summary, AstroNursery: Raising Space Babies is a unique RPG that offers a combination of simulation and strategy gameplay mechanics, a decision-making system, and a focus on character development and exploration. The game\\'s emotional and diplomatic aspects make it stand out from traditional RPGs while its tactical gameplay and technology tree add depth and variety to the gameplay. Overall, AstroNursery is a must-play for anyone who wants to experience an innovative and engaging RPG set in the far reaches of space.' summary=\"As an AI language model, I do not forget information unless instructed to do so. However, I can provide a summary of AstroNursery: Raising Space Babies for the game developer to refer to. \\n\\nAstroNursery: Raising Space Babies is an RPG set in a distant future where players take on the role of an intergalactic caretaker responsible for raising a new generation of budding space explorers. The game's story revolves around nurturing the babies, training them to become explorers, and ultimately saving the galaxy from a new threat. The game mechanics emphasize caring for the babies, managing their morale, exploring different planets and alien societies, and utilizing the babies' unique skills to complete missions. The game also employs a decision-making system, a technology tree, and a social system, making every playthrough different and providing replay value.\" character_classes=['Astrobiologist', ' Engineer', ' Pilot', ' Medic', ' Scientist', ' Navigator', ' Technician', ' Security Officer'] character_types=['Human', ' Cyborg', ' Alien', ' Robot'] attributes=['Intelligence', ' Strength', ' Agility', ' Endurance', ' Charisma', ' Perception', ' Luck']\n"
     ]
    }
   ],
   "source": [
    "camp = None\n",
    "async for c in rngesus.generate_campaign(\"space babies\"):\n",
    "    camp = c\n",
    "    print(camp)"
   ]
  },
  {
   "cell_type": "code",
   "execution_count": 4,
   "metadata": {},
   "outputs": [],
   "source": [
    "\n",
    "camp = database.upsert_campaign(camp)"
   ]
  },
  {
   "cell_type": "code",
   "execution_count": 5,
   "metadata": {},
   "outputs": [
    {
     "data": {
      "text/plain": [
       "8"
      ]
     },
     "execution_count": 5,
     "metadata": {},
     "output_type": "execute_result"
    }
   ],
   "source": [
    "camp.id\n"
   ]
  },
  {
   "cell_type": "code",
   "execution_count": 11,
   "metadata": {},
   "outputs": [
    {
     "data": {
      "text/html": [
       "<div id=\"guidance-stop-button-a91680d4-f490-44ba-bdfd-af956281766d\" style=\"cursor: pointer; margin: 0px; display: none; float: right; padding: 3px; border-radius: 4px 4px 4px 4px; border: 0px solid rgba(127, 127, 127, 1); padding-left: 10px; padding-right: 10px; font-size: 13px; background-color: rgba(127, 127, 127, 0.25);\">Stop program</div><div id=\"guidance-content-a91680d4-f490-44ba-bdfd-af956281766d\"><pre style='margin: 0px; padding: 0px; padding-left: 8px; margin-left: -8px; border-radius: 0px; border-left: 1px solid rgba(127, 127, 127, 0.2); white-space: pre-wrap; font-family: ColfaxAI, Arial; font-size: 15px; line-height: 23px;'><div style='display: flex; border-bottom: 1px solid rgba(127, 127, 127, 0.2); align-items: center;'><div style='flex: 0 0 80px; opacity: 0.5;'>system</div><div style='flex-grow: 1; padding: 5px; padding-top: 10px; padding-bottom: 10px; margin-top: 0px; white-space: pre-wrap; margin-bottom: 0px;'>You are the dungeon master of an RPG game.\n",
       "\n",
       "This is the description of the game:\n",
       "&quot;&quot;&quot;\n",
       "<span style='background-color: rgba(0, 138.56128016, 250.76166089, 0.25); display: inline;' title='{{description}}'>Zombie Mall Mayhem is a survival-based RPG set in a post-apocalyptic world where a virus has turned most of the population into flesh-eating zombies. The game is about a survivor trapped in a shopping mall, who must scavenge for supplies, fortify their base, and fight off hordes of zombies, while trying to uncover the mystery behind the outbreak. The game mechanics include scavenging, base-building, and dynamic events, which provide unexpected challenges and opportunities for the players. As an author, I must remember to keep the gameplay exciting and unpredictable, while incorporating tough moral decisions that players must make to survive.</span>\n",
       "&quot;&quot;&quot;\n",
       "\n",
       "Where the rules are undefined, you must make them up. You invented this game!\n",
       "\n",
       "Now you are the dungeon master. Make the game challenging, exciting, and rewarding!\n",
       "\n",
       "Take advantage of the games unique mechanics, and tell a really good story.\n",
       "</div></div><div style='display: flex; border-bottom: 1px solid rgba(127, 127, 127, 0.2); align-items: center;'><div style='flex: 0 0 80px; opacity: 0.5;'>user</div><div style='flex-grow: 1; padding: 5px; padding-top: 10px; padding-bottom: 10px; margin-top: 0px; white-space: pre-wrap; margin-bottom: 0px;'>Generate me a new character. The character has the class of <span style='background-color: rgba(0, 138.56128016, 250.76166089, 0.25); display: inline;' title='{{character_class}}'>Engineer</span> and the role of <span style='background-color: rgba(0, 138.56128016, 250.76166089, 0.25); display: inline;' title='{{character_type}}'>Military Personnel</span>.\n",
       "</div></div><div style='display: flex; border-bottom: 1px solid rgba(127, 127, 127, 0.2); align-items: center;'><div style='flex: 0 0 80px; opacity: 0.5;'>user</div><div style='flex-grow: 1; padding: 5px; padding-top: 10px; padding-bottom: 10px; margin-top: 0px; white-space: pre-wrap; margin-bottom: 0px;'>First, what&#x27;s the character&#x27;s name? Respond concisely with just the name. For example: &quot;Max Ernst&quot;\n",
       "</div></div><div style='display: flex; border-bottom: 1px solid rgba(127, 127, 127, 0.2); align-items: center;'><div style='flex: 0 0 80px; opacity: 0.5;'>assistant</div><div style='flex-grow: 1; padding: 5px; padding-top: 10px; padding-bottom: 10px; margin-top: 0px; white-space: pre-wrap; margin-bottom: 0px;'><span style='background-color: rgba(0, 165, 0, 0.25); opacity: 1.0; display: inline;' title='{{gen &#x27;name&#x27; max_tokens=20 temperature=0.1}}'>Jasmine Lee</span>\n",
       "</div></div><div style='display: flex; border-bottom: 1px solid rgba(127, 127, 127, 0.2); align-items: center;'><div style='flex: 0 0 80px; opacity: 0.5;'>user</div><div style='flex-grow: 1; padding: 5px; padding-top: 10px; padding-bottom: 10px; margin-top: 0px; white-space: pre-wrap; margin-bottom: 0px;'>Now, give the user an exciting backstory. Make me want to play this character!\n",
       "</div></div><div style='display: flex; border-bottom: 1px solid rgba(127, 127, 127, 0.2); align-items: center;'><div style='flex: 0 0 80px; opacity: 0.5;'>assistant</div><div style='flex-grow: 1; padding: 5px; padding-top: 10px; padding-bottom: 10px; margin-top: 0px; white-space: pre-wrap; margin-bottom: 0px;'><span style='background-color: rgba(0, 165, 0, 0.25); opacity: 1.0; display: inline;' title='{{gen &#x27;backstory&#x27; max_tokens=200 temperature=0.9}}'>Jasmine Lee was born in a military family and grew up on different bases around the world. She was a curious child, always tinkering with gadgets and machines. When it was time for her to choose her career path, she enlisted in the army as an engineer. Jasmine quickly gained a reputation for her ability to repair and upgrade weapons and vehicles, earning her the nickname &quot;The Fixer.&quot;</span>\n",
       "</div></div><div style='display: flex; border-bottom: 1px solid rgba(127, 127, 127, 0.2); align-items: center;'><div style='flex: 0 0 80px; opacity: 0.5;'>user</div><div style='flex-grow: 1; padding: 5px; padding-top: 10px; padding-bottom: 10px; margin-top: 0px; white-space: pre-wrap; margin-bottom: 0px;'>Concisely in a single sentence, what&#x27;s the characters primary story goal? \n",
       "</div></div><div style='display: flex; border-bottom: 1px solid rgba(127, 127, 127, 0.2); align-items: center;'><div style='flex: 0 0 80px; opacity: 0.5;'>assistant</div><div style='flex-grow: 1; padding: 5px; padding-top: 10px; padding-bottom: 10px; margin-top: 0px; white-space: pre-wrap; margin-bottom: 0px;'><span style='background-color: rgba(0, 165, 0, 0.25); opacity: 1.0; display: inline;' title='{{gen &#x27;primary_goal&#x27; max_tokens=100 temperature=0.9}}'>Jasmine&#x27;s primary story goal is to escape the zombie-infested mall and find a way to signal the military for rescue.</span>\n",
       "</div></div><div style='display: flex; border-bottom: 1px solid rgba(127, 127, 127, 0.2); align-items: center;'><div style='flex: 0 0 80px; opacity: 0.5;'>user</div><div style='flex-grow: 1; padding: 5px; padding-top: 10px; padding-bottom: 10px; margin-top: 0px; white-space: pre-wrap; margin-bottom: 0px;'>Now, assign attribute scores between 1 and 20 (inclusive) for all attributes: <span style='background-color: rgba(0, 138.56128016, 250.76166089, 0.25); display: inline;' title='{{attributes}}'>Strength, Agility, Intelligence, Endurance, Perception.</span>\n",
       "\n",
       "Respond as a comma delimited list with colons indicating the attributes score. Use no other punctuation.\n",
       "\n",
       "This is the format: &quot;Attribute Name: Score, Another Attribute Name: Score&quot;\n",
       "\n",
       "For example:\n",
       "Influence: 18, Power: 12,\n",
       "\n",
       "</div></div><div style='display: flex; border-bottom: 1px solid rgba(127, 127, 127, 0.2); align-items: center;'><div style='flex: 0 0 80px; opacity: 0.5;'>assistant</div><div style='flex-grow: 1; padding: 5px; padding-top: 10px; padding-bottom: 10px; margin-top: 0px; white-space: pre-wrap; margin-bottom: 0px;'><span style='background-color: rgba(0, 165, 0, 0.25); opacity: 1.0; display: inline;' title='{{gen &#x27;attributes&#x27; max_tokens=50 temperature=0.1}}'>Strength: 14, Agility: 16, Intelligence: 18, Endurance: 15, Perception: 13</span>\n",
       "</div></div><div style='display: flex; border-bottom: 1px solid rgba(127, 127, 127, 0.2); align-items: center;'><div style='flex: 0 0 80px; opacity: 0.5;'>user</div><div style='flex-grow: 1; padding: 5px; padding-top: 10px; padding-bottom: 10px; margin-top: 0px; white-space: pre-wrap; margin-bottom: 0px;'>Now, list the inventory as a comma delimited list. Don&#x27;t give me too many things, I need to save room for later acquisitions!\n",
       "Focus on the essentials that my character in their role needs to play.\n",
       "Respond with just the items separated by commas. For example: &quot;Water Bottle, Sword, Potion&quot;\n",
       "</div></div><div style='display: flex; border-bottom: 1px solid rgba(127, 127, 127, 0.2); align-items: center;'><div style='flex: 0 0 80px; opacity: 0.5;'>assistant</div><div style='flex-grow: 1; padding: 5px; padding-top: 10px; padding-bottom: 10px; margin-top: 0px; white-space: pre-wrap; margin-bottom: 0px;'><span style='background-color: rgba(0, 165, 0, 0.25); opacity: 1.0; display: inline;' title='{{gen &#x27;inventory&#x27; max_tokens=100 temperature=0.1}}'>Assault Rifle, Pistol, Combat Knife, Ammo, First Aid Kit, Tool Kit, Walkie Talkie, Flashlight, Binoculars.</span>\n",
       "</div></div></pre></div>\n",
       "<script type=\"text/javascript\">(()=>{var t={296:(t,e,n)=>{var i=NaN,o=\"[object Symbol]\",r=/^\\s+|\\s+$/g,a=/^[-+]0x[0-9a-f]+$/i,s=/^0b[01]+$/i,c=/^0o[0-7]+$/i,d=parseInt,u=\"object\"==typeof n.g&&n.g&&n.g.Object===Object&&n.g,l=\"object\"==typeof self&&self&&self.Object===Object&&self,f=u||l||Function(\"return this\")(),h=Object.prototype.toString,p=Math.max,m=Math.min,g=function(){return f.Date.now()};function b(t){var e=typeof t;return!!t&&(\"object\"==e||\"function\"==e)}function y(t){if(\"number\"==typeof t)return t;if(function(t){return\"symbol\"==typeof t||function(t){return!!t&&\"object\"==typeof t}(t)&&h.call(t)==o}(t))return i;if(b(t)){var e=\"function\"==typeof t.valueOf?t.valueOf():t;t=b(e)?e+\"\":e}if(\"string\"!=typeof t)return 0===t?t:+t;t=t.replace(r,\"\");var n=s.test(t);return n||c.test(t)?d(t.slice(2),n?2:8):a.test(t)?i:+t}t.exports=function(t,e,n){var i,o,r,a,s,c,d=0,u=!1,l=!1,f=!0;if(\"function\"!=typeof t)throw new TypeError(\"Expected a function\");function h(e){var n=i,r=o;return i=o=void 0,d=e,a=t.apply(r,n)}function v(t){var n=t-c;return void 0===c||n>=e||n<0||l&&t-d>=r}function _(){var t=g();if(v(t))return w(t);s=setTimeout(_,function(t){var n=e-(t-c);return l?m(n,r-(t-d)):n}(t))}function w(t){return s=void 0,f&&i?h(t):(i=o=void 0,a)}function j(){var t=g(),n=v(t);if(i=arguments,o=this,c=t,n){if(void 0===s)return function(t){return d=t,s=setTimeout(_,e),u?h(t):a}(c);if(l)return s=setTimeout(_,e),h(c)}return void 0===s&&(s=setTimeout(_,e)),a}return e=y(e)||0,b(n)&&(u=!!n.leading,r=(l=\"maxWait\"in n)?p(y(n.maxWait)||0,e):r,f=\"trailing\"in n?!!n.trailing:f),j.cancel=function(){void 0!==s&&clearTimeout(s),d=0,i=c=o=s=void 0},j.flush=function(){return void 0===s?a:w(g())},j}},777:t=>{var e,n,i=Math.max,o=(e=function(t,e){return function(t,e,n){if(\"function\"!=typeof t)throw new TypeError(\"Expected a function\");return setTimeout((function(){t.apply(void 0,n)}),1)}(t,0,e)},n=i(void 0===n?e.length-1:n,0),function(){for(var t=arguments,o=-1,r=i(t.length-n,0),a=Array(r);++o<r;)a[o]=t[n+o];o=-1;for(var s=Array(n+1);++o<n;)s[o]=t[o];return s[n]=a,function(t,e,n){switch(n.length){case 0:return t.call(e);case 1:return t.call(e,n[0]);case 2:return t.call(e,n[0],n[1]);case 3:return t.call(e,n[0],n[1],n[2])}return t.apply(e,n)}(e,this,s)});t.exports=o}},e={};function n(i){var o=e[i];if(void 0!==o)return o.exports;var r=e[i]={exports:{}};return t[i](r,r.exports,n),r.exports}n.n=t=>{var e=t&&t.__esModule?()=>t.default:()=>t;return n.d(e,{a:e}),e},n.d=(t,e)=>{for(var i in e)n.o(e,i)&&!n.o(t,i)&&Object.defineProperty(t,i,{enumerable:!0,get:e[i]})},n.g=function(){if(\"object\"==typeof globalThis)return globalThis;try{return this||new Function(\"return this\")()}catch(t){if(\"object\"==typeof window)return window}}(),n.o=(t,e)=>Object.prototype.hasOwnProperty.call(t,e),(()=>{\"use strict\";const t=t=>{const e=new Set;do{for(const n of Reflect.ownKeys(t))e.add([t,n])}while((t=Reflect.getPrototypeOf(t))&&t!==Object.prototype);return e};function e(e,{include:n,exclude:i}={}){const o=t=>{const e=e=>\"string\"==typeof e?t===e:e.test(t);return n?n.some(e):!i||!i.some(e)};for(const[n,i]of t(e.constructor.prototype)){if(\"constructor\"===i||!o(i))continue;const t=Reflect.getOwnPropertyDescriptor(n,i);t&&\"function\"==typeof t.value&&(e[i]=e[i].bind(e))}return e}var i=n(777),o=n.n(i),r=n(296),a=n.n(r);class s{constructor(t,n){e(this),this.interfaceId=t,this.callbackMap={},this.data={},this.pendingData={},this.jcomm=new c(\"guidance_interface_target_\"+this.interfaceId,this.updateData,\"open\"),this.debouncedSendPendingData500=a()(this.sendPendingData,500),this.debouncedSendPendingData1000=a()(this.sendPendingData,1e3),n&&o()(n)}send(t,e){this.addPendingData(t,e),this.sendPendingData()}sendEvent(t){for(const e of Object.keys(t))this.addPendingData(e,t[e]);this.sendPendingData()}debouncedSendEvent500(t){for(const e of Object.keys(t))this.addPendingData(e,t[e]);this.debouncedSendPendingData500()}debouncedSend500(t,e){this.addPendingData(t,e),this.debouncedSendPendingData500()}debouncedSend1000(t,e){this.addPendingData(t,e),this.debouncedSendPendingData1000()}addPendingData(t,e){Array.isArray(t)||(t=[t]);for(const n in t)this.pendingData[t[n]]=e}updateData(t){t=JSON.parse(t.data);for(const e in t)this.data[e]=t[e];for(const e in t)e in this.callbackMap&&this.callbackMap[e](this.data[e])}subscribe(t,e){this.callbackMap[t]=e,o()((e=>this.callbackMap[t](this.data[t])))}sendPendingData(){this.jcomm.send_data(this.pendingData),this.pendingData={}}}class c{constructor(t,e,n=\"open\"){this._fire_callback=this._fire_callback.bind(this),this._register=this._register.bind(this),this.jcomm=void 0,this.callback=e,void 0!==window.Jupyter?\"register\"===n?Jupyter.notebook.kernel.comm_manager.register_target(t,this._register):(this.jcomm=Jupyter.notebook.kernel.comm_manager.new_comm(t),this.jcomm.on_msg(this._fire_callback)):void 0!==window._mgr&&(\"register\"===n?window._mgr.widgetManager.proxyKernel.registerCommTarget(t,this._register):(this.jcomm=window._mgr.widgetManager.proxyKernel.createComm(t),this.jcomm.open({},\"\"),this.jcomm.onMsg=this._fire_callback))}send_data(t){void 0!==this.jcomm?this.jcomm.send(t):console.error(\"Jupyter comm module not yet loaded! So we can't send the message.\")}_register(t,e){this.jcomm=t,this.jcomm.on_msg(this._fire_callback)}_fire_callback(t){this.callback(t.content.data)}}class d{constructor(t,n){e(this),this.id=t,this.comm=new s(t),this.comm.subscribe(\"append\",this.appendData),this.comm.subscribe(\"replace\",this.replaceData),this.comm.subscribe(\"event\",this.eventOccurred),this.element=document.getElementById(\"guidance-content-\"+t),this.stop_button=document.getElementById(\"guidance-stop-button-\"+t),this.stop_button.onclick=()=>this.comm.send(\"event\",\"stop\")}appendData(t){t&&(this.stop_button.style.display=\"inline-block\",this.element.innerHTML+=t)}replaceData(t){t&&(this.stop_button.style.display=\"inline-block\",this.element.innerHTML=t)}eventOccurred(t){\"complete\"===t&&(this.stop_button.style.display=\"none\")}}window._guidanceDisplay=function(t,e){return new d(t,e)}})()})();; window._guidanceDisplay(\"a91680d4-f490-44ba-bdfd-af956281766d\");</script>"
      ]
     },
     "metadata": {},
     "output_type": "display_data"
    }
   ],
   "source": [
    "char = rngesus.roll_character(camp)"
   ]
  },
  {
   "cell_type": "code",
   "execution_count": 7,
   "metadata": {},
   "outputs": [
    {
     "data": {
      "text/plain": [
       "Character(name=\"The character's name is Max.\", inventory=[\"Max's inventory includes a compass\", 'a map', 'a pocket knife', 'a flashlight', 'a water bottle', 'and a notebook.'], id=1, character_type='City Kid', primary_goal='', attributes={'Strength': 14, 'Dexterity': 16, 'Constitution': 12, 'Intelligence': 10, 'Wisdom': 14, 'Charisma': 18}, campaign_id=4, character_class='Scout', backstory=\"Max grew up in the heart of a bustling city and never imagined leaving its confines. However, he always felt a pull towards the great outdoors, finding solace in the few parks and green spaces dotting the urban landscape. When Max's parents found out about Camp Quest, they saw it as an opportunity to broaden their son's horizons and help him connect with nature.\")"
      ]
     },
     "execution_count": 7,
     "metadata": {},
     "output_type": "execute_result"
    }
   ],
   "source": [
    "database.create_character(char)"
   ]
  },
  {
   "cell_type": "code",
   "execution_count": null,
   "metadata": {},
   "outputs": [],
   "source": []
  }
 ],
 "metadata": {
  "kernelspec": {
   "display_name": ".venv",
   "language": "python",
   "name": "python3"
  },
  "language_info": {
   "codemirror_mode": {
    "name": "ipython",
    "version": 3
   },
   "file_extension": ".py",
   "mimetype": "text/x-python",
   "name": "python",
   "nbconvert_exporter": "python",
   "pygments_lexer": "ipython3",
   "version": "3.11.2"
  },
  "orig_nbformat": 4
 },
 "nbformat": 4,
 "nbformat_minor": 2
}
