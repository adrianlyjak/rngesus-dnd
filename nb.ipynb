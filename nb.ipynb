{
 "cells": [
  {
   "cell_type": "code",
   "execution_count": 10,
   "metadata": {},
   "outputs": [
    {
     "name": "stdout",
     "output_type": "stream",
     "text": [
      "The autoreload extension is already loaded. To reload it, use:\n",
      "  %reload_ext autoreload\n"
     ]
    }
   ],
   "source": [
    "%load_ext autoreload\n",
    "%autoreload 2"
   ]
  },
  {
   "cell_type": "code",
   "execution_count": 11,
   "metadata": {},
   "outputs": [],
   "source": [
    "from rngesus import rngesus\n",
    "from rngesus import database\n",
    "from rngesus import game"
   ]
  },
  {
   "cell_type": "code",
   "execution_count": 21,
   "metadata": {},
   "outputs": [
    {
     "name": "stdout",
     "output_type": "stream",
     "text": [
      "2023-06-08 09:44:23,392 INFO sqlalchemy.engine.Engine BEGIN (implicit)\n"
     ]
    },
    {
     "name": "stderr",
     "output_type": "stream",
     "text": [
      "2023-06-08 09:44:23,392 - 4337747328 - base.py-base:2614 - INFO: BEGIN (implicit)\n"
     ]
    },
    {
     "name": "stdout",
     "output_type": "stream",
     "text": [
      "2023-06-08 09:44:23,393 INFO sqlalchemy.engine.Engine INSERT INTO chat (campaign_id, user_type, message) VALUES (?, ?, ?)\n"
     ]
    },
    {
     "name": "stderr",
     "output_type": "stream",
     "text": [
      "2023-06-08 09:44:23,393 - 4337747328 - base.py-base:1572 - INFO: INSERT INTO chat (campaign_id, user_type, message) VALUES (?, ?, ?)\n"
     ]
    },
    {
     "name": "stdout",
     "output_type": "stream",
     "text": [
      "2023-06-08 09:44:23,394 INFO sqlalchemy.engine.Engine [cached since 473s ago] (26, 'user', 'confront the skulking figure')\n"
     ]
    },
    {
     "name": "stderr",
     "output_type": "stream",
     "text": [
      "2023-06-08 09:44:23,394 - 4337747328 - base.py-base:1572 - INFO: [cached since 473s ago] (26, 'user', 'confront the skulking figure')\n"
     ]
    },
    {
     "name": "stdout",
     "output_type": "stream",
     "text": [
      "2023-06-08 09:44:23,394 INFO sqlalchemy.engine.Engine COMMIT\n"
     ]
    },
    {
     "name": "stderr",
     "output_type": "stream",
     "text": [
      "2023-06-08 09:44:23,394 - 4337747328 - base.py-base:2620 - INFO: COMMIT\n"
     ]
    },
    {
     "name": "stdout",
     "output_type": "stream",
     "text": [
      "2023-06-08 09:44:23,396 INFO sqlalchemy.engine.Engine BEGIN (implicit)\n"
     ]
    },
    {
     "name": "stderr",
     "output_type": "stream",
     "text": [
      "2023-06-08 09:44:23,396 - 4337747328 - base.py-base:2614 - INFO: BEGIN (implicit)\n"
     ]
    },
    {
     "name": "stdout",
     "output_type": "stream",
     "text": [
      "2023-06-08 09:44:23,397 INFO sqlalchemy.engine.Engine SELECT chat.id, chat.campaign_id, chat.user_type, chat.message \n",
      "FROM chat \n",
      "WHERE chat.id = ?\n"
     ]
    },
    {
     "name": "stderr",
     "output_type": "stream",
     "text": [
      "2023-06-08 09:44:23,397 - 4337747328 - base.py-base:1572 - INFO: SELECT chat.id, chat.campaign_id, chat.user_type, chat.message \n",
      "FROM chat \n",
      "WHERE chat.id = ?\n"
     ]
    },
    {
     "name": "stdout",
     "output_type": "stream",
     "text": [
      "2023-06-08 09:44:23,397 INFO sqlalchemy.engine.Engine [cached since 473s ago] (7,)\n"
     ]
    },
    {
     "name": "stderr",
     "output_type": "stream",
     "text": [
      "2023-06-08 09:44:23,397 - 4337747328 - base.py-base:1572 - INFO: [cached since 473s ago] (7,)\n"
     ]
    },
    {
     "name": "stdout",
     "output_type": "stream",
     "text": [
      "2023-06-08 09:44:23,398 INFO sqlalchemy.engine.Engine ROLLBACK\n"
     ]
    },
    {
     "name": "stderr",
     "output_type": "stream",
     "text": [
      "2023-06-08 09:44:23,398 - 4337747328 - base.py-base:2617 - INFO: ROLLBACK\n"
     ]
    },
    {
     "name": "stdout",
     "output_type": "stream",
     "text": [
      "2023-06-08 09:44:23,399 INFO sqlalchemy.engine.Engine BEGIN (implicit)\n"
     ]
    },
    {
     "name": "stderr",
     "output_type": "stream",
     "text": [
      "2023-06-08 09:44:23,399 - 4337747328 - base.py-base:2614 - INFO: BEGIN (implicit)\n"
     ]
    },
    {
     "name": "stdout",
     "output_type": "stream",
     "text": [
      "2023-06-08 09:44:23,399 INFO sqlalchemy.engine.Engine SELECT campaign.character_classes AS campaign_character_classes, campaign.character_types AS campaign_character_types, campaign.attributes AS campaign_attributes, campaign.id AS campaign_id, campaign.prompt AS campaign_prompt, campaign.title AS campaign_title, campaign.description AS campaign_description, campaign.summary AS campaign_summary, campaign.scenario AS campaign_scenario \n",
      "FROM campaign \n",
      "WHERE campaign.id = ?\n"
     ]
    },
    {
     "name": "stderr",
     "output_type": "stream",
     "text": [
      "2023-06-08 09:44:23,399 - 4337747328 - base.py-base:1572 - INFO: SELECT campaign.character_classes AS campaign_character_classes, campaign.character_types AS campaign_character_types, campaign.attributes AS campaign_attributes, campaign.id AS campaign_id, campaign.prompt AS campaign_prompt, campaign.title AS campaign_title, campaign.description AS campaign_description, campaign.summary AS campaign_summary, campaign.scenario AS campaign_scenario \n",
      "FROM campaign \n",
      "WHERE campaign.id = ?\n"
     ]
    },
    {
     "name": "stdout",
     "output_type": "stream",
     "text": [
      "2023-06-08 09:44:23,399 INFO sqlalchemy.engine.Engine [cached since 1278s ago] (26,)\n"
     ]
    },
    {
     "name": "stderr",
     "output_type": "stream",
     "text": [
      "2023-06-08 09:44:23,399 - 4337747328 - base.py-base:1572 - INFO: [cached since 1278s ago] (26,)\n"
     ]
    },
    {
     "name": "stdout",
     "output_type": "stream",
     "text": [
      "2023-06-08 09:44:23,400 INFO sqlalchemy.engine.Engine ROLLBACK\n"
     ]
    },
    {
     "name": "stderr",
     "output_type": "stream",
     "text": [
      "2023-06-08 09:44:23,400 - 4337747328 - base.py-base:2617 - INFO: ROLLBACK\n"
     ]
    },
    {
     "name": "stdout",
     "output_type": "stream",
     "text": [
      "2023-06-08 09:44:23,401 INFO sqlalchemy.engine.Engine BEGIN (implicit)\n"
     ]
    },
    {
     "name": "stderr",
     "output_type": "stream",
     "text": [
      "2023-06-08 09:44:23,401 - 4337747328 - base.py-base:2614 - INFO: BEGIN (implicit)\n"
     ]
    },
    {
     "name": "stdout",
     "output_type": "stream",
     "text": [
      "2023-06-08 09:44:23,401 INFO sqlalchemy.engine.Engine SELECT character.attributes AS character_attributes, character.inventory AS character_inventory, character.id AS character_id, character.campaign_id AS character_campaign_id, character.name AS character_name, character.character_class AS character_character_class, character.character_type AS character_character_type, character.backstory AS character_backstory, character.primary_goal AS character_primary_goal \n",
      "FROM character \n",
      "WHERE character.campaign_id = ?\n"
     ]
    },
    {
     "name": "stderr",
     "output_type": "stream",
     "text": [
      "2023-06-08 09:44:23,401 - 4337747328 - base.py-base:1572 - INFO: SELECT character.attributes AS character_attributes, character.inventory AS character_inventory, character.id AS character_id, character.campaign_id AS character_campaign_id, character.name AS character_name, character.character_class AS character_character_class, character.character_type AS character_character_type, character.backstory AS character_backstory, character.primary_goal AS character_primary_goal \n",
      "FROM character \n",
      "WHERE character.campaign_id = ?\n"
     ]
    },
    {
     "name": "stdout",
     "output_type": "stream",
     "text": [
      "2023-06-08 09:44:23,402 INFO sqlalchemy.engine.Engine [cached since 1278s ago] (26,)\n"
     ]
    },
    {
     "name": "stderr",
     "output_type": "stream",
     "text": [
      "2023-06-08 09:44:23,402 - 4337747328 - base.py-base:1572 - INFO: [cached since 1278s ago] (26,)\n"
     ]
    },
    {
     "name": "stdout",
     "output_type": "stream",
     "text": [
      "2023-06-08 09:44:23,403 INFO sqlalchemy.engine.Engine ROLLBACK\n"
     ]
    },
    {
     "name": "stderr",
     "output_type": "stream",
     "text": [
      "2023-06-08 09:44:23,403 - 4337747328 - base.py-base:2617 - INFO: ROLLBACK\n"
     ]
    },
    {
     "name": "stdout",
     "output_type": "stream",
     "text": [
      "2023-06-08 09:44:23,403 INFO sqlalchemy.engine.Engine BEGIN (implicit)\n"
     ]
    },
    {
     "name": "stderr",
     "output_type": "stream",
     "text": [
      "2023-06-08 09:44:23,403 - 4337747328 - base.py-base:2614 - INFO: BEGIN (implicit)\n"
     ]
    },
    {
     "name": "stdout",
     "output_type": "stream",
     "text": [
      "2023-06-08 09:44:23,404 INFO sqlalchemy.engine.Engine SELECT chat.id AS chat_id, chat.campaign_id AS chat_campaign_id, chat.user_type AS chat_user_type, chat.message AS chat_message \n",
      "FROM chat \n",
      "WHERE chat.campaign_id = ? ORDER BY chat.id\n"
     ]
    },
    {
     "name": "stderr",
     "output_type": "stream",
     "text": [
      "2023-06-08 09:44:23,404 - 4337747328 - base.py-base:1572 - INFO: SELECT chat.id AS chat_id, chat.campaign_id AS chat_campaign_id, chat.user_type AS chat_user_type, chat.message AS chat_message \n",
      "FROM chat \n",
      "WHERE chat.campaign_id = ? ORDER BY chat.id\n"
     ]
    },
    {
     "name": "stdout",
     "output_type": "stream",
     "text": [
      "2023-06-08 09:44:23,404 INFO sqlalchemy.engine.Engine [cached since 1278s ago] (26,)\n"
     ]
    },
    {
     "name": "stderr",
     "output_type": "stream",
     "text": [
      "2023-06-08 09:44:23,404 - 4337747328 - base.py-base:1572 - INFO: [cached since 1278s ago] (26,)\n"
     ]
    },
    {
     "name": "stdout",
     "output_type": "stream",
     "text": [
      "2023-06-08 09:44:23,405 INFO sqlalchemy.engine.Engine ROLLBACK\n"
     ]
    },
    {
     "name": "stderr",
     "output_type": "stream",
     "text": [
      "2023-06-08 09:44:23,405 - 4337747328 - base.py-base:2617 - INFO: ROLLBACK\n"
     ]
    },
    {
     "ename": "AttributeError",
     "evalue": "'Campaign' object has no attribute '_sa_instance_state'",
     "output_type": "error",
     "traceback": [
      "\u001b[0;31m---------------------------------------------------------------------------\u001b[0m",
      "\u001b[0;31mAttributeError\u001b[0m                            Traceback (most recent call last)",
      "Cell \u001b[0;32mIn[21], line 33\u001b[0m\n\u001b[1;32m      1\u001b[0m \u001b[39m# Campaign\u001b[39;00m\n\u001b[1;32m      2\u001b[0m \u001b[39m# program = game.generate_campaign(\"banana dance\")\u001b[39;00m\n\u001b[1;32m      3\u001b[0m \u001b[39m# async for result in program:\u001b[39;00m\n\u001b[0;32m   (...)\u001b[0m\n\u001b[1;32m     29\u001b[0m \u001b[39m#     print(\"hello\")\u001b[39;00m\n\u001b[1;32m     30\u001b[0m \u001b[39m#     print(result)\u001b[39;00m\n\u001b[1;32m     32\u001b[0m program \u001b[39m=\u001b[39m game\u001b[39m.\u001b[39muser_respond(\u001b[39m26\u001b[39m, \u001b[39m\"\u001b[39m\u001b[39mconfront the skulking figure\u001b[39m\u001b[39m\"\u001b[39m)\n\u001b[0;32m---> 33\u001b[0m \u001b[39masync\u001b[39;00m \u001b[39mfor\u001b[39;00m result \u001b[39min\u001b[39;00m program:\n\u001b[1;32m     34\u001b[0m     \u001b[39mprint\u001b[39m(\u001b[39m\"\u001b[39m\u001b[39mhello\u001b[39m\u001b[39m\"\u001b[39m)\n\u001b[1;32m     35\u001b[0m     \u001b[39mprint\u001b[39m(result)\n",
      "File \u001b[0;32m~/dev/rngesus/rngesus/game.py:100\u001b[0m, in \u001b[0;36massistant_generate\u001b[0;34m(campaign_id)\u001b[0m\n\u001b[1;32m     96\u001b[0m \u001b[39masync\u001b[39;00m \u001b[39mfor\u001b[39;00m resp \u001b[39min\u001b[39;00m rngesus\u001b[39m.\u001b[39mgenerate_chat(\n\u001b[1;32m     97\u001b[0m     state\u001b[39m.\u001b[39mcampaign, state\u001b[39m.\u001b[39mcharacters, state\u001b[39m.\u001b[39mdialog\n\u001b[1;32m     98\u001b[0m ):\n\u001b[1;32m     99\u001b[0m     \u001b[39mif\u001b[39;00m state\u001b[39m.\u001b[39mcampaign\u001b[39m.\u001b[39mscenario \u001b[39m!=\u001b[39m resp\u001b[39m.\u001b[39mscenario:\n\u001b[0;32m--> 100\u001b[0m         state\u001b[39m.\u001b[39;49mcampaign\u001b[39m.\u001b[39;49mscenario \u001b[39m=\u001b[39m resp\u001b[39m.\u001b[39mscenario\n\u001b[1;32m    101\u001b[0m         \u001b[39mprint\u001b[39m(\u001b[39m\"\u001b[39m\u001b[39mcamp \u001b[39m\u001b[39m\"\u001b[39m \u001b[39m+\u001b[39m \u001b[39mstr\u001b[39m(state\u001b[39m.\u001b[39mcampaign))\n\u001b[1;32m    102\u001b[0m         \u001b[39mprint\u001b[39m(state\u001b[39m.\u001b[39mcampaign\u001b[39m.\u001b[39mscenario)\n",
      "File \u001b[0;32m~/dev/rngesus/.venv/lib/python3.11/site-packages/sqlmodel/main.py:525\u001b[0m, in \u001b[0;36mSQLModel.__setattr__\u001b[0;34m(self, name, value)\u001b[0m\n\u001b[1;32m    522\u001b[0m \u001b[39melse\u001b[39;00m:\n\u001b[1;32m    523\u001b[0m     \u001b[39m# Set in SQLAlchemy, before Pydantic to trigger events and updates\u001b[39;00m\n\u001b[1;32m    524\u001b[0m     \u001b[39mif\u001b[39;00m \u001b[39mgetattr\u001b[39m(\u001b[39mself\u001b[39m\u001b[39m.\u001b[39m__config__, \u001b[39m\"\u001b[39m\u001b[39mtable\u001b[39m\u001b[39m\"\u001b[39m, \u001b[39mFalse\u001b[39;00m) \u001b[39mand\u001b[39;00m is_instrumented(\u001b[39mself\u001b[39m, name):\n\u001b[0;32m--> 525\u001b[0m         set_attribute(\u001b[39mself\u001b[39;49m, name, value)\n\u001b[1;32m    526\u001b[0m     \u001b[39m# Set in Pydantic model to trigger possible validation changes, only for\u001b[39;00m\n\u001b[1;32m    527\u001b[0m     \u001b[39m# non relationship values\u001b[39;00m\n\u001b[1;32m    528\u001b[0m     \u001b[39mif\u001b[39;00m name \u001b[39mnot\u001b[39;00m \u001b[39min\u001b[39;00m \u001b[39mself\u001b[39m\u001b[39m.\u001b[39m__sqlmodel_relationships__:\n",
      "File \u001b[0;32m~/dev/rngesus/.venv/lib/python3.11/site-packages/sqlalchemy/orm/attributes.py:2255\u001b[0m, in \u001b[0;36mset_attribute\u001b[0;34m(instance, key, value, initiator)\u001b[0m\n\u001b[1;32m   2230\u001b[0m \u001b[39mdef\u001b[39;00m \u001b[39mset_attribute\u001b[39m(instance, key, value, initiator\u001b[39m=\u001b[39m\u001b[39mNone\u001b[39;00m):\n\u001b[1;32m   2231\u001b[0m \u001b[39m    \u001b[39m\u001b[39m\"\"\"Set the value of an attribute, firing history events.\u001b[39;00m\n\u001b[1;32m   2232\u001b[0m \n\u001b[1;32m   2233\u001b[0m \u001b[39m    This function may be used regardless of instrumentation\u001b[39;00m\n\u001b[0;32m   (...)\u001b[0m\n\u001b[1;32m   2253\u001b[0m \n\u001b[1;32m   2254\u001b[0m \u001b[39m    \"\"\"\u001b[39;00m\n\u001b[0;32m-> 2255\u001b[0m     state, dict_ \u001b[39m=\u001b[39m instance_state(instance), instance_dict(instance)\n\u001b[1;32m   2256\u001b[0m     state\u001b[39m.\u001b[39mmanager[key]\u001b[39m.\u001b[39mimpl\u001b[39m.\u001b[39mset(state, dict_, value, initiator)\n",
      "\u001b[0;31mAttributeError\u001b[0m: 'Campaign' object has no attribute '_sa_instance_state'"
     ]
    }
   ],
   "source": [
    "# Campaign\n",
    "# program = game.generate_campaign(\"banana dance\")\n",
    "# async for result in program:\n",
    "#     pass\n",
    "\n",
    "# regenerate\n",
    "# camp = game.get_campaign(28)\n",
    "# camp.prompt = \"banana dance\"\n",
    "# program = game.regenerate_campaign(camp)\n",
    "# async for generated in program:\n",
    "#     pass\n",
    "\n",
    "# verify\n",
    "# camp = game.get_campaign(26)\n",
    "# print(\"\\n\".join([\": \".join([str(i) for i in item]) for item in camp.dict().items()]))\n",
    "\n",
    "# characters\n",
    "# program = await game.add_character(26)\n",
    "# async for generated in program:\n",
    "#     print(generated.id)\n",
    "\n",
    "# verify character\n",
    "# char = game.get_character(43)\n",
    "# print(\"\\n\".join([\": \".join([str(i) for i in item]) for item in char.dict().items()]))\n",
    "\n",
    "# Game\n",
    "# program = game.assistant_generate(26)\n",
    "# async for result in program:\n",
    "#     print(\"hello\")\n",
    "#     print(result)\n",
    "\n",
    "program = game.user_respond(26, \"confront the skulking figure\")\n",
    "async for result in program:\n",
    "    print(\"hello\")\n",
    "    print(result)"
   ]
  },
  {
   "cell_type": "code",
   "execution_count": null,
   "metadata": {},
   "outputs": [],
   "source": []
  }
 ],
 "metadata": {
  "kernelspec": {
   "display_name": ".venv",
   "language": "python",
   "name": "python3"
  },
  "language_info": {
   "codemirror_mode": {
    "name": "ipython",
    "version": 3
   },
   "file_extension": ".py",
   "mimetype": "text/x-python",
   "name": "python",
   "nbconvert_exporter": "python",
   "pygments_lexer": "ipython3",
   "version": "3.11.2"
  },
  "orig_nbformat": 4
 },
 "nbformat": 4,
 "nbformat_minor": 2
}
