{
 "cells": [
  {
   "cell_type": "code",
   "execution_count": 1,
   "metadata": {},
   "outputs": [],
   "source": [
    "%load_ext autoreload\n",
    "%autoreload 2"
   ]
  },
  {
   "cell_type": "code",
   "execution_count": 2,
   "metadata": {},
   "outputs": [],
   "source": [
    "from rngesus import rngesus\n",
    "from rngesus import database\n",
    "from rngesus import game"
   ]
  },
  {
   "cell_type": "code",
   "execution_count": 6,
   "metadata": {},
   "outputs": [
    {
     "name": "stdout",
     "output_type": "stream",
     "text": [
      "2023-06-11 15:44:10,644 INFO sqlalchemy.engine.Engine BEGIN (implicit)\n"
     ]
    },
    {
     "name": "stderr",
     "output_type": "stream",
     "text": [
      "2023-06-11 15:44:10,644 - 4302161280 - base.py-base:2614 - INFO: BEGIN (implicit)\n"
     ]
    },
    {
     "name": "stdout",
     "output_type": "stream",
     "text": [
      "2023-06-11 15:44:10,645 INFO sqlalchemy.engine.Engine SELECT character.id AS character_id, character.name AS character_name, character.character_class AS character_character_class, character.character_type AS character_character_type \n",
      "FROM character \n",
      "WHERE character.campaign_id = ?\n"
     ]
    },
    {
     "name": "stderr",
     "output_type": "stream",
     "text": [
      "2023-06-11 15:44:10,645 - 4302161280 - base.py-base:1572 - INFO: SELECT character.id AS character_id, character.name AS character_name, character.character_class AS character_character_class, character.character_type AS character_character_type \n",
      "FROM character \n",
      "WHERE character.campaign_id = ?\n"
     ]
    },
    {
     "name": "stdout",
     "output_type": "stream",
     "text": [
      "2023-06-11 15:44:10,645 INFO sqlalchemy.engine.Engine [cached since 3231s ago] (34,)\n"
     ]
    },
    {
     "name": "stderr",
     "output_type": "stream",
     "text": [
      "2023-06-11 15:44:10,645 - 4302161280 - base.py-base:1572 - INFO: [cached since 3231s ago] (34,)\n"
     ]
    },
    {
     "name": "stdout",
     "output_type": "stream",
     "text": [
      "2023-06-11 15:44:10,646 INFO sqlalchemy.engine.Engine ROLLBACK\n"
     ]
    },
    {
     "name": "stderr",
     "output_type": "stream",
     "text": [
      "2023-06-11 15:44:10,646 - 4302161280 - base.py-base:2617 - INFO: ROLLBACK\n"
     ]
    },
    {
     "name": "stdout",
     "output_type": "stream",
     "text": [
      "characters:\n",
      "id=76 name='Aurora Vega' character_class='Astrobiologist' character_type='Transhuman'\n",
      "id=77 name=\"Zara'Keth\" character_class='Astrochemist' character_type='Alien'\n",
      "id=78 name='Ava-01' character_class='Astrobiologist' character_type='AI'\n"
     ]
    }
   ],
   "source": [
    "campaign_id = 34\n",
    "# # # # # # # # # #\n",
    "# # Campaign\n",
    "# program = game.generate_campaign(\n",
    "#     \"moons of jupiter: a magical and psychadelic journey through the technological future where humans have colonized around jupiter. Great cities have emerged on space stations that include many types of beings. The game is non-combat centric, focusing rather on mysteries and social intrigue\"\n",
    "# )\n",
    "# async for result in program:\n",
    "#     pass\n",
    "# # # # # # # # # #\n",
    "\n",
    "# # # # # # # # # #\n",
    "# # regenerate\n",
    "# camp = game.get_campaign(campaign_id)\n",
    "# # camp.prompt = \"banana dance\"\n",
    "# program = game.regenerate_campaign(camp)\n",
    "# async for generated in program:\n",
    "#     pass\n",
    "# # # # # # # # # #\n",
    "\n",
    "# # # # # # # # # #\n",
    "# # verify\n",
    "# camp = game.get_campaign(campaign_id)\n",
    "# print(\"\\n\".join([\": \".join([str(i) for i in item]) for item in camp.dict().items()]))\n",
    "# # # # # # # # # #\n",
    "\n",
    "char_id = 74\n",
    "\n",
    "# # # # # # # # #\n",
    "# characters\n",
    "for i in range(3):\n",
    "    program = await game.add_character(campaign_id)\n",
    "    async for generated in program:\n",
    "        char_id = generated.id\n",
    "        print(f\"character ID: {generated.id}\")\n",
    "# # # # # # # # #\n",
    "\n",
    "# # # # # # # # # #\n",
    "# # list potential characters\n",
    "# chars = game.get_character_summaries(campaign_id)\n",
    "# print(\"characters:\")\n",
    "# for character in chars:\n",
    "#     print(character)\n",
    "# # # # # # # # # #\n",
    "\n",
    "\n",
    "# # # # # # # # # #\n",
    "# # verify character\n",
    "# char = game.get_character(char_id)\n",
    "# print(\"\\n\".join([\": \".join([str(i) for i in item]) for item in char.dict().items()]))\n",
    "# # # # # # # # # #\n",
    "\n",
    "# # # # # # # # # #\n",
    "# # activate character\n",
    "# game.activate_character(char_id)\n",
    "# print([x.name for x in game.get_active_characters(campaign_id)])\n",
    "# # # # # # # # # #\n",
    "\n",
    "# # # # # # # # # #\n",
    "# # Game\n",
    "# program = game.assistant_generate(campaign_id)\n",
    "# async for result in program:\n",
    "#     print(result)\n",
    "# # # # # # # # # #\n",
    "\n",
    "# # # # # # # # # #\n",
    "# # Respond\n",
    "# program = game.user_respond(\n",
    "#     campaign_id,\n",
    "#     \"Let's check it out!\",\n",
    "# )\n",
    "# async for result in program:\n",
    "#     print(\"hello\")\n",
    "#     print(result)\n",
    "# # # # # # # # # #"
   ]
  },
  {
   "cell_type": "code",
   "execution_count": null,
   "metadata": {},
   "outputs": [],
   "source": []
  }
 ],
 "metadata": {
  "kernelspec": {
   "display_name": ".venv",
   "language": "python",
   "name": "python3"
  },
  "language_info": {
   "codemirror_mode": {
    "name": "ipython",
    "version": 3
   },
   "file_extension": ".py",
   "mimetype": "text/x-python",
   "name": "python",
   "nbconvert_exporter": "python",
   "pygments_lexer": "ipython3",
   "version": "3.11.2"
  },
  "orig_nbformat": 4
 },
 "nbformat": 4,
 "nbformat_minor": 2
}
